{
 "cells": [
  {
   "cell_type": "code",
   "execution_count": 1,
   "id": "b5e18800-5380-4573-813b-4d336f6a01d1",
   "metadata": {},
   "outputs": [],
   "source": [
    "L=[1,2,3,4,5]"
   ]
  },
  {
   "cell_type": "code",
   "execution_count": 2,
   "id": "c6f6468c-dd8f-4780-88af-9d0cce7ac391",
   "metadata": {},
   "outputs": [],
   "source": [
    "from pandas import DataFrame as DF"
   ]
  },
  {
   "cell_type": "code",
   "execution_count": 3,
   "id": "66f3947f-48f9-4f4c-afe9-4902e32b0c39",
   "metadata": {},
   "outputs": [],
   "source": [
    "Data1=DF(L)"
   ]
  },
  {
   "cell_type": "code",
   "execution_count": 4,
   "id": "4cc450fd-d44d-4661-84d3-e50952a7d950",
   "metadata": {},
   "outputs": [
    {
     "data": {
      "text/html": [
       "<div>\n",
       "<style scoped>\n",
       "    .dataframe tbody tr th:only-of-type {\n",
       "        vertical-align: middle;\n",
       "    }\n",
       "\n",
       "    .dataframe tbody tr th {\n",
       "        vertical-align: top;\n",
       "    }\n",
       "\n",
       "    .dataframe thead th {\n",
       "        text-align: right;\n",
       "    }\n",
       "</style>\n",
       "<table border=\"1\" class=\"dataframe\">\n",
       "  <thead>\n",
       "    <tr style=\"text-align: right;\">\n",
       "      <th></th>\n",
       "      <th>0</th>\n",
       "    </tr>\n",
       "  </thead>\n",
       "  <tbody>\n",
       "    <tr>\n",
       "      <th>0</th>\n",
       "      <td>1</td>\n",
       "    </tr>\n",
       "    <tr>\n",
       "      <th>1</th>\n",
       "      <td>2</td>\n",
       "    </tr>\n",
       "    <tr>\n",
       "      <th>2</th>\n",
       "      <td>3</td>\n",
       "    </tr>\n",
       "    <tr>\n",
       "      <th>3</th>\n",
       "      <td>4</td>\n",
       "    </tr>\n",
       "    <tr>\n",
       "      <th>4</th>\n",
       "      <td>5</td>\n",
       "    </tr>\n",
       "  </tbody>\n",
       "</table>\n",
       "</div>"
      ],
      "text/plain": [
       "   0\n",
       "0  1\n",
       "1  2\n",
       "2  3\n",
       "3  4\n",
       "4  5"
      ]
     },
     "execution_count": 4,
     "metadata": {},
     "output_type": "execute_result"
    }
   ],
   "source": [
    "Data1"
   ]
  },
  {
   "cell_type": "code",
   "execution_count": 5,
   "id": "41a4c42d-d92e-464c-9895-d5dfc2684f53",
   "metadata": {},
   "outputs": [],
   "source": [
    "L=[(1,2,3),(4,5,6),(7,8)]"
   ]
  },
  {
   "cell_type": "code",
   "execution_count": 6,
   "id": "4e86395f-0079-47ba-8c7f-c47e3cfba3fa",
   "metadata": {},
   "outputs": [],
   "source": [
    "Data2=DF(L)"
   ]
  },
  {
   "cell_type": "code",
   "execution_count": 7,
   "id": "dbab2caf-1057-4fa9-9303-e208d2859d05",
   "metadata": {},
   "outputs": [
    {
     "data": {
      "text/html": [
       "<div>\n",
       "<style scoped>\n",
       "    .dataframe tbody tr th:only-of-type {\n",
       "        vertical-align: middle;\n",
       "    }\n",
       "\n",
       "    .dataframe tbody tr th {\n",
       "        vertical-align: top;\n",
       "    }\n",
       "\n",
       "    .dataframe thead th {\n",
       "        text-align: right;\n",
       "    }\n",
       "</style>\n",
       "<table border=\"1\" class=\"dataframe\">\n",
       "  <thead>\n",
       "    <tr style=\"text-align: right;\">\n",
       "      <th></th>\n",
       "      <th>0</th>\n",
       "      <th>1</th>\n",
       "      <th>2</th>\n",
       "    </tr>\n",
       "  </thead>\n",
       "  <tbody>\n",
       "    <tr>\n",
       "      <th>0</th>\n",
       "      <td>1</td>\n",
       "      <td>2</td>\n",
       "      <td>3.0</td>\n",
       "    </tr>\n",
       "    <tr>\n",
       "      <th>1</th>\n",
       "      <td>4</td>\n",
       "      <td>5</td>\n",
       "      <td>6.0</td>\n",
       "    </tr>\n",
       "    <tr>\n",
       "      <th>2</th>\n",
       "      <td>7</td>\n",
       "      <td>8</td>\n",
       "      <td>NaN</td>\n",
       "    </tr>\n",
       "  </tbody>\n",
       "</table>\n",
       "</div>"
      ],
      "text/plain": [
       "   0  1    2\n",
       "0  1  2  3.0\n",
       "1  4  5  6.0\n",
       "2  7  8  NaN"
      ]
     },
     "execution_count": 7,
     "metadata": {},
     "output_type": "execute_result"
    }
   ],
   "source": [
    "Data2"
   ]
  },
  {
   "cell_type": "code",
   "execution_count": 8,
   "id": "06606e50-a2ea-419a-8e57-4c549f0555a8",
   "metadata": {},
   "outputs": [],
   "source": [
    "T=([1,2,3],[4,5,6])"
   ]
  },
  {
   "cell_type": "code",
   "execution_count": 9,
   "id": "08613b0a-f6a2-45c5-874b-b5e85d647e04",
   "metadata": {},
   "outputs": [],
   "source": [
    "Data3=DF(T)"
   ]
  },
  {
   "cell_type": "code",
   "execution_count": 10,
   "id": "e9983558-0041-4136-b556-fcf28fcb1a61",
   "metadata": {},
   "outputs": [
    {
     "data": {
      "text/html": [
       "<div>\n",
       "<style scoped>\n",
       "    .dataframe tbody tr th:only-of-type {\n",
       "        vertical-align: middle;\n",
       "    }\n",
       "\n",
       "    .dataframe tbody tr th {\n",
       "        vertical-align: top;\n",
       "    }\n",
       "\n",
       "    .dataframe thead th {\n",
       "        text-align: right;\n",
       "    }\n",
       "</style>\n",
       "<table border=\"1\" class=\"dataframe\">\n",
       "  <thead>\n",
       "    <tr style=\"text-align: right;\">\n",
       "      <th></th>\n",
       "      <th>0</th>\n",
       "      <th>1</th>\n",
       "      <th>2</th>\n",
       "    </tr>\n",
       "  </thead>\n",
       "  <tbody>\n",
       "    <tr>\n",
       "      <th>0</th>\n",
       "      <td>1</td>\n",
       "      <td>2</td>\n",
       "      <td>3</td>\n",
       "    </tr>\n",
       "    <tr>\n",
       "      <th>1</th>\n",
       "      <td>4</td>\n",
       "      <td>5</td>\n",
       "      <td>6</td>\n",
       "    </tr>\n",
       "  </tbody>\n",
       "</table>\n",
       "</div>"
      ],
      "text/plain": [
       "   0  1  2\n",
       "0  1  2  3\n",
       "1  4  5  6"
      ]
     },
     "execution_count": 10,
     "metadata": {},
     "output_type": "execute_result"
    }
   ],
   "source": [
    "Data3"
   ]
  },
  {
   "cell_type": "code",
   "execution_count": 11,
   "id": "74b4ae84-c5c7-4aee-ad0b-5a6c5fc63a8b",
   "metadata": {},
   "outputs": [],
   "source": [
    "S={(1,2,3),(4,5,6)}"
   ]
  },
  {
   "cell_type": "code",
   "execution_count": 12,
   "id": "833e901d-6bab-494f-81d4-71e07637a1b5",
   "metadata": {},
   "outputs": [],
   "source": [
    "Data4=DF(S)"
   ]
  },
  {
   "cell_type": "code",
   "execution_count": 13,
   "id": "46db0a95-ad62-4276-84e9-6543d1cd65f6",
   "metadata": {},
   "outputs": [
    {
     "data": {
      "text/html": [
       "<div>\n",
       "<style scoped>\n",
       "    .dataframe tbody tr th:only-of-type {\n",
       "        vertical-align: middle;\n",
       "    }\n",
       "\n",
       "    .dataframe tbody tr th {\n",
       "        vertical-align: top;\n",
       "    }\n",
       "\n",
       "    .dataframe thead th {\n",
       "        text-align: right;\n",
       "    }\n",
       "</style>\n",
       "<table border=\"1\" class=\"dataframe\">\n",
       "  <thead>\n",
       "    <tr style=\"text-align: right;\">\n",
       "      <th></th>\n",
       "      <th>0</th>\n",
       "      <th>1</th>\n",
       "      <th>2</th>\n",
       "    </tr>\n",
       "  </thead>\n",
       "  <tbody>\n",
       "    <tr>\n",
       "      <th>0</th>\n",
       "      <td>1</td>\n",
       "      <td>2</td>\n",
       "      <td>3</td>\n",
       "    </tr>\n",
       "    <tr>\n",
       "      <th>1</th>\n",
       "      <td>4</td>\n",
       "      <td>5</td>\n",
       "      <td>6</td>\n",
       "    </tr>\n",
       "  </tbody>\n",
       "</table>\n",
       "</div>"
      ],
      "text/plain": [
       "   0  1  2\n",
       "0  1  2  3\n",
       "1  4  5  6"
      ]
     },
     "execution_count": 13,
     "metadata": {},
     "output_type": "execute_result"
    }
   ],
   "source": [
    "Data4"
   ]
  },
  {
   "cell_type": "code",
   "execution_count": 14,
   "id": "48baf328-97ea-449e-be19-6a5fc91487c2",
   "metadata": {},
   "outputs": [
    {
     "name": "stdout",
     "output_type": "stream",
     "text": [
      "<class 'pandas.core.frame.DataFrame'>\n"
     ]
    }
   ],
   "source": [
    "print(type(Data4))"
   ]
  },
  {
   "cell_type": "code",
   "execution_count": 15,
   "id": "fdea14c2-7497-4972-91dd-3894256abb5e",
   "metadata": {},
   "outputs": [
    {
     "data": {
      "text/plain": [
       "RangeIndex(start=0, stop=5, step=1)"
      ]
     },
     "execution_count": 15,
     "metadata": {},
     "output_type": "execute_result"
    }
   ],
   "source": [
    "Data1.index"
   ]
  },
  {
   "cell_type": "code",
   "execution_count": 16,
   "id": "3bec6d16-4d0f-4c34-9275-4295a917741a",
   "metadata": {},
   "outputs": [
    {
     "data": {
      "text/plain": [
       "RangeIndex(start=0, stop=3, step=1)"
      ]
     },
     "execution_count": 16,
     "metadata": {},
     "output_type": "execute_result"
    }
   ],
   "source": [
    "Data2.index"
   ]
  },
  {
   "cell_type": "code",
   "execution_count": 17,
   "id": "66508067-a6a2-4692-9720-2179b893cae5",
   "metadata": {},
   "outputs": [
    {
     "name": "stdout",
     "output_type": "stream",
     "text": [
      "0\n",
      "1\n",
      "2\n",
      "3\n",
      "4\n"
     ]
    }
   ],
   "source": [
    "for i in Data1.index:\n",
    "    print(i)"
   ]
  },
  {
   "cell_type": "code",
   "execution_count": 18,
   "id": "e36b5c95-deb5-4a62-9170-dde4e1a026a6",
   "metadata": {},
   "outputs": [
    {
     "data": {
      "text/plain": [
       "int"
      ]
     },
     "execution_count": 18,
     "metadata": {},
     "output_type": "execute_result"
    }
   ],
   "source": [
    "type(i)"
   ]
  },
  {
   "cell_type": "code",
   "execution_count": 19,
   "id": "e09e2d15-99c9-429a-8603-fd65fa8eb7d0",
   "metadata": {},
   "outputs": [
    {
     "data": {
      "text/plain": [
       "dtype('int64')"
      ]
     },
     "execution_count": 19,
     "metadata": {},
     "output_type": "execute_result"
    }
   ],
   "source": [
    "Data1.index.dtype"
   ]
  },
  {
   "cell_type": "code",
   "execution_count": 20,
   "id": "d2d6e9d9-a7b4-4a42-996b-8bf18eeb79be",
   "metadata": {},
   "outputs": [
    {
     "data": {
      "text/plain": [
       "RangeIndex(start=0, stop=3, step=1)"
      ]
     },
     "execution_count": 20,
     "metadata": {},
     "output_type": "execute_result"
    }
   ],
   "source": [
    "Data2.columns"
   ]
  },
  {
   "cell_type": "code",
   "execution_count": 21,
   "id": "3133d08f-a65c-4305-b1a9-641011561e61",
   "metadata": {},
   "outputs": [
    {
     "name": "stdout",
     "output_type": "stream",
     "text": [
      "0\n",
      "1\n",
      "2\n"
     ]
    }
   ],
   "source": [
    "for j in Data2.columns:\n",
    "    print(j)"
   ]
  },
  {
   "cell_type": "code",
   "execution_count": 22,
   "id": "0dd4ece3-201c-4399-99bc-af304910e9b0",
   "metadata": {},
   "outputs": [
    {
     "data": {
      "text/plain": [
       "dtype('int64')"
      ]
     },
     "execution_count": 22,
     "metadata": {},
     "output_type": "execute_result"
    }
   ],
   "source": [
    "Data2.columns.dtype"
   ]
  },
  {
   "cell_type": "code",
   "execution_count": 23,
   "id": "a7c38be5-0686-43e7-839b-930c5ae447e8",
   "metadata": {},
   "outputs": [
    {
     "data": {
      "text/plain": [
       "array([[1],\n",
       "       [2],\n",
       "       [3],\n",
       "       [4],\n",
       "       [5]], dtype=int64)"
      ]
     },
     "execution_count": 23,
     "metadata": {},
     "output_type": "execute_result"
    }
   ],
   "source": [
    "Data1.values"
   ]
  },
  {
   "cell_type": "code",
   "execution_count": 24,
   "id": "a62ea4c3-7b12-4881-bd43-756445e76b43",
   "metadata": {},
   "outputs": [
    {
     "data": {
      "text/plain": [
       "array([[ 1.,  2.,  3.],\n",
       "       [ 4.,  5.,  6.],\n",
       "       [ 7.,  8., nan]])"
      ]
     },
     "execution_count": 24,
     "metadata": {},
     "output_type": "execute_result"
    }
   ],
   "source": [
    "Data2.values"
   ]
  },
  {
   "cell_type": "code",
   "execution_count": 25,
   "id": "9b270f20-a6d9-4ac1-a530-17e414cb6e81",
   "metadata": {},
   "outputs": [
    {
     "data": {
      "text/plain": [
       "numpy.ndarray"
      ]
     },
     "execution_count": 25,
     "metadata": {},
     "output_type": "execute_result"
    }
   ],
   "source": [
    "type(Data2.values)"
   ]
  },
  {
   "cell_type": "code",
   "execution_count": 26,
   "id": "b4c50ed6-05f9-424c-9922-e03f6e6bde58",
   "metadata": {},
   "outputs": [],
   "source": [
    "Dict1={'Name':'Zachariah','empno':103,'Salary':22000}"
   ]
  },
  {
   "cell_type": "code",
   "execution_count": 27,
   "id": "06ac847c-15c5-4d45-a39a-7428962ad27d",
   "metadata": {},
   "outputs": [
    {
     "ename": "ValueError",
     "evalue": "If using all scalar values, you must pass an index",
     "output_type": "error",
     "traceback": [
      "\u001b[1;31m---------------------------------------------------------------------------\u001b[0m",
      "\u001b[1;31mValueError\u001b[0m                                Traceback (most recent call last)",
      "Cell \u001b[1;32mIn[27], line 1\u001b[0m\n\u001b[1;32m----> 1\u001b[0m Data11\u001b[38;5;241m=\u001b[39m\u001b[43mDF\u001b[49m\u001b[43m(\u001b[49m\u001b[43mDict1\u001b[49m\u001b[43m)\u001b[49m\n",
      "File \u001b[1;32m~\\AppData\\Local\\Programs\\Python\\Python311\\Lib\\site-packages\\pandas\\core\\frame.py:736\u001b[0m, in \u001b[0;36mDataFrame.__init__\u001b[1;34m(self, data, index, columns, dtype, copy)\u001b[0m\n\u001b[0;32m    730\u001b[0m     mgr \u001b[38;5;241m=\u001b[39m \u001b[38;5;28mself\u001b[39m\u001b[38;5;241m.\u001b[39m_init_mgr(\n\u001b[0;32m    731\u001b[0m         data, axes\u001b[38;5;241m=\u001b[39m{\u001b[38;5;124m\"\u001b[39m\u001b[38;5;124mindex\u001b[39m\u001b[38;5;124m\"\u001b[39m: index, \u001b[38;5;124m\"\u001b[39m\u001b[38;5;124mcolumns\u001b[39m\u001b[38;5;124m\"\u001b[39m: columns}, dtype\u001b[38;5;241m=\u001b[39mdtype, copy\u001b[38;5;241m=\u001b[39mcopy\n\u001b[0;32m    732\u001b[0m     )\n\u001b[0;32m    734\u001b[0m \u001b[38;5;28;01melif\u001b[39;00m \u001b[38;5;28misinstance\u001b[39m(data, \u001b[38;5;28mdict\u001b[39m):\n\u001b[0;32m    735\u001b[0m     \u001b[38;5;66;03m# GH#38939 de facto copy defaults to False only in non-dict cases\u001b[39;00m\n\u001b[1;32m--> 736\u001b[0m     mgr \u001b[38;5;241m=\u001b[39m \u001b[43mdict_to_mgr\u001b[49m\u001b[43m(\u001b[49m\u001b[43mdata\u001b[49m\u001b[43m,\u001b[49m\u001b[43m \u001b[49m\u001b[43mindex\u001b[49m\u001b[43m,\u001b[49m\u001b[43m \u001b[49m\u001b[43mcolumns\u001b[49m\u001b[43m,\u001b[49m\u001b[43m \u001b[49m\u001b[43mdtype\u001b[49m\u001b[38;5;241;43m=\u001b[39;49m\u001b[43mdtype\u001b[49m\u001b[43m,\u001b[49m\u001b[43m \u001b[49m\u001b[43mcopy\u001b[49m\u001b[38;5;241;43m=\u001b[39;49m\u001b[43mcopy\u001b[49m\u001b[43m,\u001b[49m\u001b[43m \u001b[49m\u001b[43mtyp\u001b[49m\u001b[38;5;241;43m=\u001b[39;49m\u001b[43mmanager\u001b[49m\u001b[43m)\u001b[49m\n\u001b[0;32m    737\u001b[0m \u001b[38;5;28;01melif\u001b[39;00m \u001b[38;5;28misinstance\u001b[39m(data, ma\u001b[38;5;241m.\u001b[39mMaskedArray):\n\u001b[0;32m    738\u001b[0m     \u001b[38;5;28;01mfrom\u001b[39;00m \u001b[38;5;21;01mnumpy\u001b[39;00m\u001b[38;5;21;01m.\u001b[39;00m\u001b[38;5;21;01mma\u001b[39;00m \u001b[38;5;28;01mimport\u001b[39;00m mrecords\n",
      "File \u001b[1;32m~\\AppData\\Local\\Programs\\Python\\Python311\\Lib\\site-packages\\pandas\\core\\internals\\construction.py:503\u001b[0m, in \u001b[0;36mdict_to_mgr\u001b[1;34m(data, index, columns, dtype, typ, copy)\u001b[0m\n\u001b[0;32m    499\u001b[0m     \u001b[38;5;28;01melse\u001b[39;00m:\n\u001b[0;32m    500\u001b[0m         \u001b[38;5;66;03m# dtype check to exclude e.g. range objects, scalars\u001b[39;00m\n\u001b[0;32m    501\u001b[0m         arrays \u001b[38;5;241m=\u001b[39m [x\u001b[38;5;241m.\u001b[39mcopy() \u001b[38;5;28;01mif\u001b[39;00m \u001b[38;5;28mhasattr\u001b[39m(x, \u001b[38;5;124m\"\u001b[39m\u001b[38;5;124mdtype\u001b[39m\u001b[38;5;124m\"\u001b[39m) \u001b[38;5;28;01melse\u001b[39;00m x \u001b[38;5;28;01mfor\u001b[39;00m x \u001b[38;5;129;01min\u001b[39;00m arrays]\n\u001b[1;32m--> 503\u001b[0m \u001b[38;5;28;01mreturn\u001b[39;00m \u001b[43marrays_to_mgr\u001b[49m\u001b[43m(\u001b[49m\u001b[43marrays\u001b[49m\u001b[43m,\u001b[49m\u001b[43m \u001b[49m\u001b[43mcolumns\u001b[49m\u001b[43m,\u001b[49m\u001b[43m \u001b[49m\u001b[43mindex\u001b[49m\u001b[43m,\u001b[49m\u001b[43m \u001b[49m\u001b[43mdtype\u001b[49m\u001b[38;5;241;43m=\u001b[39;49m\u001b[43mdtype\u001b[49m\u001b[43m,\u001b[49m\u001b[43m \u001b[49m\u001b[43mtyp\u001b[49m\u001b[38;5;241;43m=\u001b[39;49m\u001b[43mtyp\u001b[49m\u001b[43m,\u001b[49m\u001b[43m \u001b[49m\u001b[43mconsolidate\u001b[49m\u001b[38;5;241;43m=\u001b[39;49m\u001b[43mcopy\u001b[49m\u001b[43m)\u001b[49m\n",
      "File \u001b[1;32m~\\AppData\\Local\\Programs\\Python\\Python311\\Lib\\site-packages\\pandas\\core\\internals\\construction.py:114\u001b[0m, in \u001b[0;36marrays_to_mgr\u001b[1;34m(arrays, columns, index, dtype, verify_integrity, typ, consolidate)\u001b[0m\n\u001b[0;32m    111\u001b[0m \u001b[38;5;28;01mif\u001b[39;00m verify_integrity:\n\u001b[0;32m    112\u001b[0m     \u001b[38;5;66;03m# figure out the index, if necessary\u001b[39;00m\n\u001b[0;32m    113\u001b[0m     \u001b[38;5;28;01mif\u001b[39;00m index \u001b[38;5;129;01mis\u001b[39;00m \u001b[38;5;28;01mNone\u001b[39;00m:\n\u001b[1;32m--> 114\u001b[0m         index \u001b[38;5;241m=\u001b[39m \u001b[43m_extract_index\u001b[49m\u001b[43m(\u001b[49m\u001b[43marrays\u001b[49m\u001b[43m)\u001b[49m\n\u001b[0;32m    115\u001b[0m     \u001b[38;5;28;01melse\u001b[39;00m:\n\u001b[0;32m    116\u001b[0m         index \u001b[38;5;241m=\u001b[39m ensure_index(index)\n",
      "File \u001b[1;32m~\\AppData\\Local\\Programs\\Python\\Python311\\Lib\\site-packages\\pandas\\core\\internals\\construction.py:667\u001b[0m, in \u001b[0;36m_extract_index\u001b[1;34m(data)\u001b[0m\n\u001b[0;32m    664\u001b[0m         \u001b[38;5;28;01mraise\u001b[39;00m \u001b[38;5;167;01mValueError\u001b[39;00m(\u001b[38;5;124m\"\u001b[39m\u001b[38;5;124mPer-column arrays must each be 1-dimensional\u001b[39m\u001b[38;5;124m\"\u001b[39m)\n\u001b[0;32m    666\u001b[0m \u001b[38;5;28;01mif\u001b[39;00m \u001b[38;5;129;01mnot\u001b[39;00m indexes \u001b[38;5;129;01mand\u001b[39;00m \u001b[38;5;129;01mnot\u001b[39;00m raw_lengths:\n\u001b[1;32m--> 667\u001b[0m     \u001b[38;5;28;01mraise\u001b[39;00m \u001b[38;5;167;01mValueError\u001b[39;00m(\u001b[38;5;124m\"\u001b[39m\u001b[38;5;124mIf using all scalar values, you must pass an index\u001b[39m\u001b[38;5;124m\"\u001b[39m)\n\u001b[0;32m    669\u001b[0m \u001b[38;5;28;01mif\u001b[39;00m have_series:\n\u001b[0;32m    670\u001b[0m     index \u001b[38;5;241m=\u001b[39m union_indexes(indexes)\n",
      "\u001b[1;31mValueError\u001b[0m: If using all scalar values, you must pass an index"
     ]
    }
   ],
   "source": [
    "Data11=DF(Dict1)"
   ]
  },
  {
   "cell_type": "code",
   "execution_count": 28,
   "id": "816e272b-4d51-4cc0-8c12-695eb279a97e",
   "metadata": {},
   "outputs": [],
   "source": [
    "Data11=DF(Dict1,index=[1])"
   ]
  },
  {
   "cell_type": "code",
   "execution_count": 29,
   "id": "8babac24-9184-465f-9949-7f5e2808fe96",
   "metadata": {},
   "outputs": [
    {
     "data": {
      "text/html": [
       "<div>\n",
       "<style scoped>\n",
       "    .dataframe tbody tr th:only-of-type {\n",
       "        vertical-align: middle;\n",
       "    }\n",
       "\n",
       "    .dataframe tbody tr th {\n",
       "        vertical-align: top;\n",
       "    }\n",
       "\n",
       "    .dataframe thead th {\n",
       "        text-align: right;\n",
       "    }\n",
       "</style>\n",
       "<table border=\"1\" class=\"dataframe\">\n",
       "  <thead>\n",
       "    <tr style=\"text-align: right;\">\n",
       "      <th></th>\n",
       "      <th>Name</th>\n",
       "      <th>empno</th>\n",
       "      <th>Salary</th>\n",
       "    </tr>\n",
       "  </thead>\n",
       "  <tbody>\n",
       "    <tr>\n",
       "      <th>1</th>\n",
       "      <td>Zachariah</td>\n",
       "      <td>103</td>\n",
       "      <td>22000</td>\n",
       "    </tr>\n",
       "  </tbody>\n",
       "</table>\n",
       "</div>"
      ],
      "text/plain": [
       "        Name  empno  Salary\n",
       "1  Zachariah    103   22000"
      ]
     },
     "execution_count": 29,
     "metadata": {},
     "output_type": "execute_result"
    }
   ],
   "source": [
    "Data11"
   ]
  },
  {
   "cell_type": "code",
   "execution_count": 30,
   "id": "4850417d-4591-41ff-aceb-02bafd91372a",
   "metadata": {},
   "outputs": [],
   "source": [
    "Dict2={'Name':{'one':'Mohan','two':'Shahana','three':'Zachariah'},'empno':{'one':101,'two':102,'three':103},'Salary':{'one':14000,'two':20000,'three':22000}}"
   ]
  },
  {
   "cell_type": "code",
   "execution_count": 31,
   "id": "b163089f-ed54-40c1-8408-d17c7ce80efd",
   "metadata": {},
   "outputs": [],
   "source": [
    "Data12=DF(Dict2)"
   ]
  },
  {
   "cell_type": "code",
   "execution_count": 32,
   "id": "f431e60b-1919-4d2f-8fc6-4de80c2bee3f",
   "metadata": {},
   "outputs": [
    {
     "data": {
      "text/html": [
       "<div>\n",
       "<style scoped>\n",
       "    .dataframe tbody tr th:only-of-type {\n",
       "        vertical-align: middle;\n",
       "    }\n",
       "\n",
       "    .dataframe tbody tr th {\n",
       "        vertical-align: top;\n",
       "    }\n",
       "\n",
       "    .dataframe thead th {\n",
       "        text-align: right;\n",
       "    }\n",
       "</style>\n",
       "<table border=\"1\" class=\"dataframe\">\n",
       "  <thead>\n",
       "    <tr style=\"text-align: right;\">\n",
       "      <th></th>\n",
       "      <th>Name</th>\n",
       "      <th>empno</th>\n",
       "      <th>Salary</th>\n",
       "    </tr>\n",
       "  </thead>\n",
       "  <tbody>\n",
       "    <tr>\n",
       "      <th>one</th>\n",
       "      <td>Mohan</td>\n",
       "      <td>101</td>\n",
       "      <td>14000</td>\n",
       "    </tr>\n",
       "    <tr>\n",
       "      <th>two</th>\n",
       "      <td>Shahana</td>\n",
       "      <td>102</td>\n",
       "      <td>20000</td>\n",
       "    </tr>\n",
       "    <tr>\n",
       "      <th>three</th>\n",
       "      <td>Zachariah</td>\n",
       "      <td>103</td>\n",
       "      <td>22000</td>\n",
       "    </tr>\n",
       "  </tbody>\n",
       "</table>\n",
       "</div>"
      ],
      "text/plain": [
       "            Name  empno  Salary\n",
       "one        Mohan    101   14000\n",
       "two      Shahana    102   20000\n",
       "three  Zachariah    103   22000"
      ]
     },
     "execution_count": 32,
     "metadata": {},
     "output_type": "execute_result"
    }
   ],
   "source": [
    "Data12"
   ]
  },
  {
   "cell_type": "code",
   "execution_count": 33,
   "id": "a04b0139-bef6-454f-b6a8-1b9c28a646bb",
   "metadata": {},
   "outputs": [],
   "source": [
    "Dict3={'Name':['Mohan','Shahana','Zachariah'],'empno':[101,102,103],'Salary':[14000,20000,22000]}"
   ]
  },
  {
   "cell_type": "code",
   "execution_count": 34,
   "id": "d29d29dd-ba3c-4637-b311-af5c808a3168",
   "metadata": {},
   "outputs": [],
   "source": [
    "Data13=DF(Dict3)"
   ]
  },
  {
   "cell_type": "code",
   "execution_count": 35,
   "id": "dc5fc5f8-3c00-4c5e-8507-e766f23393d7",
   "metadata": {},
   "outputs": [
    {
     "data": {
      "text/html": [
       "<div>\n",
       "<style scoped>\n",
       "    .dataframe tbody tr th:only-of-type {\n",
       "        vertical-align: middle;\n",
       "    }\n",
       "\n",
       "    .dataframe tbody tr th {\n",
       "        vertical-align: top;\n",
       "    }\n",
       "\n",
       "    .dataframe thead th {\n",
       "        text-align: right;\n",
       "    }\n",
       "</style>\n",
       "<table border=\"1\" class=\"dataframe\">\n",
       "  <thead>\n",
       "    <tr style=\"text-align: right;\">\n",
       "      <th></th>\n",
       "      <th>Name</th>\n",
       "      <th>empno</th>\n",
       "      <th>Salary</th>\n",
       "    </tr>\n",
       "  </thead>\n",
       "  <tbody>\n",
       "    <tr>\n",
       "      <th>0</th>\n",
       "      <td>Mohan</td>\n",
       "      <td>101</td>\n",
       "      <td>14000</td>\n",
       "    </tr>\n",
       "    <tr>\n",
       "      <th>1</th>\n",
       "      <td>Shahana</td>\n",
       "      <td>102</td>\n",
       "      <td>20000</td>\n",
       "    </tr>\n",
       "    <tr>\n",
       "      <th>2</th>\n",
       "      <td>Zachariah</td>\n",
       "      <td>103</td>\n",
       "      <td>22000</td>\n",
       "    </tr>\n",
       "  </tbody>\n",
       "</table>\n",
       "</div>"
      ],
      "text/plain": [
       "        Name  empno  Salary\n",
       "0      Mohan    101   14000\n",
       "1    Shahana    102   20000\n",
       "2  Zachariah    103   22000"
      ]
     },
     "execution_count": 35,
     "metadata": {},
     "output_type": "execute_result"
    }
   ],
   "source": [
    "Data13"
   ]
  },
  {
   "cell_type": "code",
   "execution_count": 36,
   "id": "39fbe1cd-39e1-4d01-8b64-1b11872e4fbe",
   "metadata": {},
   "outputs": [],
   "source": [
    "Data=DF()"
   ]
  },
  {
   "cell_type": "code",
   "execution_count": 37,
   "id": "af847646-94a2-4c46-8ee3-64fcd7d80dc9",
   "metadata": {},
   "outputs": [
    {
     "data": {
      "text/html": [
       "<div>\n",
       "<style scoped>\n",
       "    .dataframe tbody tr th:only-of-type {\n",
       "        vertical-align: middle;\n",
       "    }\n",
       "\n",
       "    .dataframe tbody tr th {\n",
       "        vertical-align: top;\n",
       "    }\n",
       "\n",
       "    .dataframe thead th {\n",
       "        text-align: right;\n",
       "    }\n",
       "</style>\n",
       "<table border=\"1\" class=\"dataframe\">\n",
       "  <thead>\n",
       "    <tr style=\"text-align: right;\">\n",
       "      <th></th>\n",
       "    </tr>\n",
       "  </thead>\n",
       "  <tbody>\n",
       "  </tbody>\n",
       "</table>\n",
       "</div>"
      ],
      "text/plain": [
       "Empty DataFrame\n",
       "Columns: []\n",
       "Index: []"
      ]
     },
     "execution_count": 37,
     "metadata": {},
     "output_type": "execute_result"
    }
   ],
   "source": [
    "Data"
   ]
  },
  {
   "cell_type": "code",
   "execution_count": 38,
   "id": "7a6d9a07-08bb-4711-b4bf-83e797529851",
   "metadata": {},
   "outputs": [
    {
     "data": {
      "text/plain": [
       "pandas.core.frame.DataFrame"
      ]
     },
     "execution_count": 38,
     "metadata": {},
     "output_type": "execute_result"
    }
   ],
   "source": [
    "type(Data)"
   ]
  },
  {
   "cell_type": "code",
   "execution_count": 39,
   "id": "3f58b8c8-8c70-4245-91ab-08d7c87a3ee1",
   "metadata": {},
   "outputs": [],
   "source": [
    "L11=[1]"
   ]
  },
  {
   "cell_type": "code",
   "execution_count": 40,
   "id": "e0f522eb-5991-4add-856f-12757a6b8ec7",
   "metadata": {},
   "outputs": [],
   "source": [
    "Dat11=DF(L11)"
   ]
  },
  {
   "cell_type": "code",
   "execution_count": 41,
   "id": "a45ed200-ff6f-442f-a571-62ee015a1dd5",
   "metadata": {},
   "outputs": [
    {
     "data": {
      "text/html": [
       "<div>\n",
       "<style scoped>\n",
       "    .dataframe tbody tr th:only-of-type {\n",
       "        vertical-align: middle;\n",
       "    }\n",
       "\n",
       "    .dataframe tbody tr th {\n",
       "        vertical-align: top;\n",
       "    }\n",
       "\n",
       "    .dataframe thead th {\n",
       "        text-align: right;\n",
       "    }\n",
       "</style>\n",
       "<table border=\"1\" class=\"dataframe\">\n",
       "  <thead>\n",
       "    <tr style=\"text-align: right;\">\n",
       "      <th></th>\n",
       "      <th>0</th>\n",
       "    </tr>\n",
       "  </thead>\n",
       "  <tbody>\n",
       "    <tr>\n",
       "      <th>0</th>\n",
       "      <td>1</td>\n",
       "    </tr>\n",
       "  </tbody>\n",
       "</table>\n",
       "</div>"
      ],
      "text/plain": [
       "   0\n",
       "0  1"
      ]
     },
     "execution_count": 41,
     "metadata": {},
     "output_type": "execute_result"
    }
   ],
   "source": [
    "Dat11"
   ]
  },
  {
   "cell_type": "code",
   "execution_count": 42,
   "id": "9e5fa15c-9a7f-406d-8398-76af0aecd464",
   "metadata": {},
   "outputs": [],
   "source": [
    "S11={1}"
   ]
  },
  {
   "cell_type": "code",
   "execution_count": 43,
   "id": "524c6e54-4ae0-4722-875a-58d59d1fef14",
   "metadata": {},
   "outputs": [],
   "source": [
    "Dat12=DF(S11)"
   ]
  },
  {
   "cell_type": "code",
   "execution_count": 44,
   "id": "bdd14370-0304-437c-afdc-761daacdc780",
   "metadata": {},
   "outputs": [
    {
     "data": {
      "text/html": [
       "<div>\n",
       "<style scoped>\n",
       "    .dataframe tbody tr th:only-of-type {\n",
       "        vertical-align: middle;\n",
       "    }\n",
       "\n",
       "    .dataframe tbody tr th {\n",
       "        vertical-align: top;\n",
       "    }\n",
       "\n",
       "    .dataframe thead th {\n",
       "        text-align: right;\n",
       "    }\n",
       "</style>\n",
       "<table border=\"1\" class=\"dataframe\">\n",
       "  <thead>\n",
       "    <tr style=\"text-align: right;\">\n",
       "      <th></th>\n",
       "      <th>0</th>\n",
       "    </tr>\n",
       "  </thead>\n",
       "  <tbody>\n",
       "    <tr>\n",
       "      <th>0</th>\n",
       "      <td>1</td>\n",
       "    </tr>\n",
       "  </tbody>\n",
       "</table>\n",
       "</div>"
      ],
      "text/plain": [
       "   0\n",
       "0  1"
      ]
     },
     "execution_count": 44,
     "metadata": {},
     "output_type": "execute_result"
    }
   ],
   "source": [
    "Dat12"
   ]
  },
  {
   "cell_type": "code",
   "execution_count": 45,
   "id": "aadd24c9-f5a9-45cd-afc4-d028f61572c1",
   "metadata": {},
   "outputs": [],
   "source": [
    "T11=1,"
   ]
  },
  {
   "cell_type": "code",
   "execution_count": 46,
   "id": "05cc9310-e825-48c3-8ccc-881e07e5274a",
   "metadata": {},
   "outputs": [],
   "source": [
    "Dat13=DF(T11)"
   ]
  },
  {
   "cell_type": "code",
   "execution_count": 47,
   "id": "6e492dd4-6e9b-4858-95c5-fda30277833f",
   "metadata": {},
   "outputs": [
    {
     "data": {
      "text/html": [
       "<div>\n",
       "<style scoped>\n",
       "    .dataframe tbody tr th:only-of-type {\n",
       "        vertical-align: middle;\n",
       "    }\n",
       "\n",
       "    .dataframe tbody tr th {\n",
       "        vertical-align: top;\n",
       "    }\n",
       "\n",
       "    .dataframe thead th {\n",
       "        text-align: right;\n",
       "    }\n",
       "</style>\n",
       "<table border=\"1\" class=\"dataframe\">\n",
       "  <thead>\n",
       "    <tr style=\"text-align: right;\">\n",
       "      <th></th>\n",
       "      <th>0</th>\n",
       "    </tr>\n",
       "  </thead>\n",
       "  <tbody>\n",
       "    <tr>\n",
       "      <th>0</th>\n",
       "      <td>1</td>\n",
       "    </tr>\n",
       "  </tbody>\n",
       "</table>\n",
       "</div>"
      ],
      "text/plain": [
       "   0\n",
       "0  1"
      ]
     },
     "execution_count": 47,
     "metadata": {},
     "output_type": "execute_result"
    }
   ],
   "source": [
    "Dat13"
   ]
  },
  {
   "cell_type": "code",
   "execution_count": 48,
   "id": "16f095e0-0f89-498f-9889-da75eba7b507",
   "metadata": {},
   "outputs": [],
   "source": [
    "import pandas as pd"
   ]
  },
  {
   "cell_type": "code",
   "execution_count": 49,
   "id": "3be05e18-4091-43fb-8b1c-17d4cf1c40c6",
   "metadata": {},
   "outputs": [],
   "source": [
    "DataSet1=pd.read_csv('emp.csv')"
   ]
  },
  {
   "cell_type": "code",
   "execution_count": 50,
   "id": "b62936f8-e9f4-4b1b-b7d1-1276de3716c0",
   "metadata": {},
   "outputs": [
    {
     "data": {
      "text/html": [
       "<div>\n",
       "<style scoped>\n",
       "    .dataframe tbody tr th:only-of-type {\n",
       "        vertical-align: middle;\n",
       "    }\n",
       "\n",
       "    .dataframe tbody tr th {\n",
       "        vertical-align: top;\n",
       "    }\n",
       "\n",
       "    .dataframe thead th {\n",
       "        text-align: right;\n",
       "    }\n",
       "</style>\n",
       "<table border=\"1\" class=\"dataframe\">\n",
       "  <thead>\n",
       "    <tr style=\"text-align: right;\">\n",
       "      <th></th>\n",
       "      <th>E_Name</th>\n",
       "      <th>E_ID</th>\n",
       "      <th>E_Desig</th>\n",
       "      <th>E_Salary</th>\n",
       "    </tr>\n",
       "  </thead>\n",
       "  <tbody>\n",
       "    <tr>\n",
       "      <th>0</th>\n",
       "      <td>K.Raj</td>\n",
       "      <td>101</td>\n",
       "      <td>scientist</td>\n",
       "      <td>54000</td>\n",
       "    </tr>\n",
       "    <tr>\n",
       "      <th>1</th>\n",
       "      <td>Mohan Raj M.</td>\n",
       "      <td>102</td>\n",
       "      <td>engineer</td>\n",
       "      <td>50000</td>\n",
       "    </tr>\n",
       "    <tr>\n",
       "      <th>2</th>\n",
       "      <td>M.Ram</td>\n",
       "      <td>103</td>\n",
       "      <td>scientist</td>\n",
       "      <td>80000</td>\n",
       "    </tr>\n",
       "    <tr>\n",
       "      <th>3</th>\n",
       "      <td>Ram Kumar</td>\n",
       "      <td>104</td>\n",
       "      <td>scientist</td>\n",
       "      <td>66000</td>\n",
       "    </tr>\n",
       "    <tr>\n",
       "      <th>4</th>\n",
       "      <td>Mohan Babu K.K.</td>\n",
       "      <td>106</td>\n",
       "      <td>officer</td>\n",
       "      <td>57000</td>\n",
       "    </tr>\n",
       "    <tr>\n",
       "      <th>5</th>\n",
       "      <td>K.Gopal</td>\n",
       "      <td>107</td>\n",
       "      <td>scientist</td>\n",
       "      <td>50000</td>\n",
       "    </tr>\n",
       "    <tr>\n",
       "      <th>6</th>\n",
       "      <td>Anil Raj M.</td>\n",
       "      <td>108</td>\n",
       "      <td>engineer</td>\n",
       "      <td>62000</td>\n",
       "    </tr>\n",
       "    <tr>\n",
       "      <th>7</th>\n",
       "      <td>Amala P.</td>\n",
       "      <td>201</td>\n",
       "      <td>scientist</td>\n",
       "      <td>70000</td>\n",
       "    </tr>\n",
       "    <tr>\n",
       "      <th>8</th>\n",
       "      <td>Uma</td>\n",
       "      <td>204</td>\n",
       "      <td>officer</td>\n",
       "      <td>60000</td>\n",
       "    </tr>\n",
       "    <tr>\n",
       "      <th>9</th>\n",
       "      <td>Suma</td>\n",
       "      <td>206</td>\n",
       "      <td>engineer</td>\n",
       "      <td>57000</td>\n",
       "    </tr>\n",
       "  </tbody>\n",
       "</table>\n",
       "</div>"
      ],
      "text/plain": [
       "            E_Name  E_ID    E_Desig  E_Salary\n",
       "0            K.Raj   101  scientist     54000\n",
       "1     Mohan Raj M.   102   engineer     50000\n",
       "2            M.Ram   103  scientist     80000\n",
       "3        Ram Kumar   104  scientist     66000\n",
       "4  Mohan Babu K.K.   106    officer     57000\n",
       "5          K.Gopal   107  scientist     50000\n",
       "6      Anil Raj M.   108   engineer     62000\n",
       "7         Amala P.   201  scientist     70000\n",
       "8             Uma    204    officer     60000\n",
       "9             Suma   206   engineer     57000"
      ]
     },
     "execution_count": 50,
     "metadata": {},
     "output_type": "execute_result"
    }
   ],
   "source": [
    "DataSet1"
   ]
  },
  {
   "cell_type": "code",
   "execution_count": 51,
   "id": "4965deec-e5ff-4753-84f1-779311ce0460",
   "metadata": {},
   "outputs": [
    {
     "data": {
      "text/plain": [
       "array([['K.Raj', 101, 'scientist', 54000],\n",
       "       ['Mohan Raj M.', 102, 'engineer', 50000],\n",
       "       ['M.Ram', 103, 'scientist', 80000],\n",
       "       ['Ram Kumar', 104, 'scientist', 66000],\n",
       "       ['Mohan Babu K.K.', 106, 'officer', 57000],\n",
       "       ['K.Gopal', 107, 'scientist', 50000],\n",
       "       ['Anil Raj M.', 108, 'engineer', 62000],\n",
       "       ['Amala P.', 201, 'scientist', 70000],\n",
       "       ['Uma ', 204, 'officer', 60000],\n",
       "       ['Suma', 206, 'engineer', 57000]], dtype=object)"
      ]
     },
     "execution_count": 51,
     "metadata": {},
     "output_type": "execute_result"
    }
   ],
   "source": [
    "DataSet1.values"
   ]
  },
  {
   "cell_type": "code",
   "execution_count": 52,
   "id": "26ec0f45-090d-4816-8f9d-820b74586f58",
   "metadata": {},
   "outputs": [
    {
     "data": {
      "text/plain": [
       "40"
      ]
     },
     "execution_count": 52,
     "metadata": {},
     "output_type": "execute_result"
    }
   ],
   "source": [
    "DataSet1.size"
   ]
  },
  {
   "cell_type": "code",
   "execution_count": 53,
   "id": "f24b55ee-24bb-4661-9e8b-bda6296d3fa2",
   "metadata": {},
   "outputs": [
    {
     "data": {
      "text/plain": [
       "(10, 4)"
      ]
     },
     "execution_count": 53,
     "metadata": {},
     "output_type": "execute_result"
    }
   ],
   "source": [
    "DataSet1.shape"
   ]
  },
  {
   "cell_type": "code",
   "execution_count": 54,
   "id": "001655f6-2c85-4e9e-8bf2-04f49598030c",
   "metadata": {},
   "outputs": [
    {
     "data": {
      "text/plain": [
       "2"
      ]
     },
     "execution_count": 54,
     "metadata": {},
     "output_type": "execute_result"
    }
   ],
   "source": [
    "DataSet1.ndim"
   ]
  },
  {
   "cell_type": "code",
   "execution_count": 55,
   "id": "119815e2-9554-473e-a7c5-064f6eb4ba09",
   "metadata": {},
   "outputs": [
    {
     "ename": "AttributeError",
     "evalue": "'DataFrame' object has no attribute 'reshape'",
     "output_type": "error",
     "traceback": [
      "\u001b[1;31m---------------------------------------------------------------------------\u001b[0m",
      "\u001b[1;31mAttributeError\u001b[0m                            Traceback (most recent call last)",
      "\u001b[1;32m~\\AppData\\Local\\Temp\\ipykernel_5868\\4106453542.py\u001b[0m in \u001b[0;36m?\u001b[1;34m()\u001b[0m\n\u001b[1;32m----> 1\u001b[1;33m \u001b[0mDataSet1\u001b[0m\u001b[1;33m.\u001b[0m\u001b[0mreshape\u001b[0m\u001b[1;33m(\u001b[0m\u001b[1;36m2\u001b[0m\u001b[1;33m,\u001b[0m\u001b[1;36m5\u001b[0m\u001b[1;33m,\u001b[0m\u001b[1;36m4\u001b[0m\u001b[1;33m)\u001b[0m\u001b[1;33m\u001b[0m\u001b[1;33m\u001b[0m\u001b[0m\n\u001b[0m",
      "\u001b[1;32m~\\AppData\\Local\\Programs\\Python\\Python311\\Lib\\site-packages\\pandas\\core\\generic.py\u001b[0m in \u001b[0;36m?\u001b[1;34m(self, name)\u001b[0m\n\u001b[0;32m   6200\u001b[0m             \u001b[1;32mand\u001b[0m \u001b[0mname\u001b[0m \u001b[1;32mnot\u001b[0m \u001b[1;32min\u001b[0m \u001b[0mself\u001b[0m\u001b[1;33m.\u001b[0m\u001b[0m_accessors\u001b[0m\u001b[1;33m\u001b[0m\u001b[1;33m\u001b[0m\u001b[0m\n\u001b[0;32m   6201\u001b[0m             \u001b[1;32mand\u001b[0m \u001b[0mself\u001b[0m\u001b[1;33m.\u001b[0m\u001b[0m_info_axis\u001b[0m\u001b[1;33m.\u001b[0m\u001b[0m_can_hold_identifiers_and_holds_name\u001b[0m\u001b[1;33m(\u001b[0m\u001b[0mname\u001b[0m\u001b[1;33m)\u001b[0m\u001b[1;33m\u001b[0m\u001b[1;33m\u001b[0m\u001b[0m\n\u001b[0;32m   6202\u001b[0m         ):\n\u001b[0;32m   6203\u001b[0m             \u001b[1;32mreturn\u001b[0m \u001b[0mself\u001b[0m\u001b[1;33m[\u001b[0m\u001b[0mname\u001b[0m\u001b[1;33m]\u001b[0m\u001b[1;33m\u001b[0m\u001b[1;33m\u001b[0m\u001b[0m\n\u001b[1;32m-> 6204\u001b[1;33m         \u001b[1;32mreturn\u001b[0m \u001b[0mobject\u001b[0m\u001b[1;33m.\u001b[0m\u001b[0m__getattribute__\u001b[0m\u001b[1;33m(\u001b[0m\u001b[0mself\u001b[0m\u001b[1;33m,\u001b[0m \u001b[0mname\u001b[0m\u001b[1;33m)\u001b[0m\u001b[1;33m\u001b[0m\u001b[1;33m\u001b[0m\u001b[0m\n\u001b[0m",
      "\u001b[1;31mAttributeError\u001b[0m: 'DataFrame' object has no attribute 'reshape'"
     ]
    }
   ],
   "source": [
    "DataSet1.reshape(2,5,4)"
   ]
  },
  {
   "cell_type": "code",
   "execution_count": 56,
   "id": "8870e590-1610-468b-8398-b7147a1a2aa3",
   "metadata": {},
   "outputs": [
    {
     "data": {
      "text/plain": [
       "array([[['K.Raj', 101, 'scientist', 54000],\n",
       "        ['Mohan Raj M.', 102, 'engineer', 50000],\n",
       "        ['M.Ram', 103, 'scientist', 80000],\n",
       "        ['Ram Kumar', 104, 'scientist', 66000],\n",
       "        ['Mohan Babu K.K.', 106, 'officer', 57000]],\n",
       "\n",
       "       [['K.Gopal', 107, 'scientist', 50000],\n",
       "        ['Anil Raj M.', 108, 'engineer', 62000],\n",
       "        ['Amala P.', 201, 'scientist', 70000],\n",
       "        ['Uma ', 204, 'officer', 60000],\n",
       "        ['Suma', 206, 'engineer', 57000]]], dtype=object)"
      ]
     },
     "execution_count": 56,
     "metadata": {},
     "output_type": "execute_result"
    }
   ],
   "source": [
    "DataSet1.values.reshape(2,5,4)"
   ]
  },
  {
   "cell_type": "code",
   "execution_count": 57,
   "id": "e5cdc178-6423-44d5-9396-ac3db33b122e",
   "metadata": {},
   "outputs": [
    {
     "data": {
      "text/plain": [
       "RangeIndex(start=0, stop=10, step=1)"
      ]
     },
     "execution_count": 57,
     "metadata": {},
     "output_type": "execute_result"
    }
   ],
   "source": [
    "DataSet1.index"
   ]
  },
  {
   "cell_type": "code",
   "execution_count": 58,
   "id": "eb8b4c11-4b0a-4969-b112-29e3be5424ef",
   "metadata": {},
   "outputs": [
    {
     "name": "stdout",
     "output_type": "stream",
     "text": [
      "E_Name\n",
      "E_ID\n",
      "E_Desig\n",
      "E_Salary\n"
     ]
    }
   ],
   "source": [
    "for col in DataSet1.columns:\n",
    "    print(col)"
   ]
  },
  {
   "cell_type": "code",
   "execution_count": 59,
   "id": "cd20833a-73d1-4c20-b928-69d7551e6310",
   "metadata": {},
   "outputs": [
    {
     "data": {
      "text/plain": [
       "Index(['E_Name', 'E_ID', 'E_Desig', 'E_Salary'], dtype='object')"
      ]
     },
     "execution_count": 59,
     "metadata": {},
     "output_type": "execute_result"
    }
   ],
   "source": [
    "DataSet1.columns"
   ]
  },
  {
   "cell_type": "code",
   "execution_count": 60,
   "id": "1f4a19f0-1ecc-412e-aafa-ca222d600ff4",
   "metadata": {},
   "outputs": [
    {
     "data": {
      "text/plain": [
       "0              K.Raj\n",
       "1       Mohan Raj M.\n",
       "2              M.Ram\n",
       "3          Ram Kumar\n",
       "4    Mohan Babu K.K.\n",
       "5            K.Gopal\n",
       "6        Anil Raj M.\n",
       "7           Amala P.\n",
       "8               Uma \n",
       "9               Suma\n",
       "Name: E_Name, dtype: object"
      ]
     },
     "execution_count": 60,
     "metadata": {},
     "output_type": "execute_result"
    }
   ],
   "source": [
    "DataSet1['E_Name']"
   ]
  },
  {
   "cell_type": "code",
   "execution_count": 61,
   "id": "9bde9846-af0a-4c83-b2be-39c4bb99eac3",
   "metadata": {},
   "outputs": [
    {
     "data": {
      "text/plain": [
       "0    101\n",
       "1    102\n",
       "2    103\n",
       "3    104\n",
       "4    106\n",
       "5    107\n",
       "6    108\n",
       "7    201\n",
       "8    204\n",
       "9    206\n",
       "Name: E_ID, dtype: int64"
      ]
     },
     "execution_count": 61,
     "metadata": {},
     "output_type": "execute_result"
    }
   ],
   "source": [
    "DataSet1['E_ID']"
   ]
  },
  {
   "cell_type": "code",
   "execution_count": 62,
   "id": "34841d00-173a-4f31-b869-9999e1921460",
   "metadata": {},
   "outputs": [
    {
     "ename": "KeyError",
     "evalue": "'1'",
     "output_type": "error",
     "traceback": [
      "\u001b[1;31m---------------------------------------------------------------------------\u001b[0m",
      "\u001b[1;31mKeyError\u001b[0m                                  Traceback (most recent call last)",
      "File \u001b[1;32m~\\AppData\\Local\\Programs\\Python\\Python311\\Lib\\site-packages\\pandas\\core\\indexes\\base.py:3790\u001b[0m, in \u001b[0;36mIndex.get_loc\u001b[1;34m(self, key)\u001b[0m\n\u001b[0;32m   3789\u001b[0m \u001b[38;5;28;01mtry\u001b[39;00m:\n\u001b[1;32m-> 3790\u001b[0m     \u001b[38;5;28;01mreturn\u001b[39;00m \u001b[38;5;28;43mself\u001b[39;49m\u001b[38;5;241;43m.\u001b[39;49m\u001b[43m_engine\u001b[49m\u001b[38;5;241;43m.\u001b[39;49m\u001b[43mget_loc\u001b[49m\u001b[43m(\u001b[49m\u001b[43mcasted_key\u001b[49m\u001b[43m)\u001b[49m\n\u001b[0;32m   3791\u001b[0m \u001b[38;5;28;01mexcept\u001b[39;00m \u001b[38;5;167;01mKeyError\u001b[39;00m \u001b[38;5;28;01mas\u001b[39;00m err:\n",
      "File \u001b[1;32mindex.pyx:152\u001b[0m, in \u001b[0;36mpandas._libs.index.IndexEngine.get_loc\u001b[1;34m()\u001b[0m\n",
      "File \u001b[1;32mindex.pyx:181\u001b[0m, in \u001b[0;36mpandas._libs.index.IndexEngine.get_loc\u001b[1;34m()\u001b[0m\n",
      "File \u001b[1;32mpandas\\_libs\\hashtable_class_helper.pxi:7080\u001b[0m, in \u001b[0;36mpandas._libs.hashtable.PyObjectHashTable.get_item\u001b[1;34m()\u001b[0m\n",
      "File \u001b[1;32mpandas\\_libs\\hashtable_class_helper.pxi:7088\u001b[0m, in \u001b[0;36mpandas._libs.hashtable.PyObjectHashTable.get_item\u001b[1;34m()\u001b[0m\n",
      "\u001b[1;31mKeyError\u001b[0m: '1'",
      "\nThe above exception was the direct cause of the following exception:\n",
      "\u001b[1;31mKeyError\u001b[0m                                  Traceback (most recent call last)",
      "Cell \u001b[1;32mIn[62], line 1\u001b[0m\n\u001b[1;32m----> 1\u001b[0m \u001b[43mDataSet1\u001b[49m\u001b[43m[\u001b[49m\u001b[38;5;124;43m'\u001b[39;49m\u001b[38;5;124;43m1\u001b[39;49m\u001b[38;5;124;43m'\u001b[39;49m\u001b[43m]\u001b[49m\n",
      "File \u001b[1;32m~\\AppData\\Local\\Programs\\Python\\Python311\\Lib\\site-packages\\pandas\\core\\frame.py:3896\u001b[0m, in \u001b[0;36mDataFrame.__getitem__\u001b[1;34m(self, key)\u001b[0m\n\u001b[0;32m   3894\u001b[0m \u001b[38;5;28;01mif\u001b[39;00m \u001b[38;5;28mself\u001b[39m\u001b[38;5;241m.\u001b[39mcolumns\u001b[38;5;241m.\u001b[39mnlevels \u001b[38;5;241m>\u001b[39m \u001b[38;5;241m1\u001b[39m:\n\u001b[0;32m   3895\u001b[0m     \u001b[38;5;28;01mreturn\u001b[39;00m \u001b[38;5;28mself\u001b[39m\u001b[38;5;241m.\u001b[39m_getitem_multilevel(key)\n\u001b[1;32m-> 3896\u001b[0m indexer \u001b[38;5;241m=\u001b[39m \u001b[38;5;28;43mself\u001b[39;49m\u001b[38;5;241;43m.\u001b[39;49m\u001b[43mcolumns\u001b[49m\u001b[38;5;241;43m.\u001b[39;49m\u001b[43mget_loc\u001b[49m\u001b[43m(\u001b[49m\u001b[43mkey\u001b[49m\u001b[43m)\u001b[49m\n\u001b[0;32m   3897\u001b[0m \u001b[38;5;28;01mif\u001b[39;00m is_integer(indexer):\n\u001b[0;32m   3898\u001b[0m     indexer \u001b[38;5;241m=\u001b[39m [indexer]\n",
      "File \u001b[1;32m~\\AppData\\Local\\Programs\\Python\\Python311\\Lib\\site-packages\\pandas\\core\\indexes\\base.py:3797\u001b[0m, in \u001b[0;36mIndex.get_loc\u001b[1;34m(self, key)\u001b[0m\n\u001b[0;32m   3792\u001b[0m     \u001b[38;5;28;01mif\u001b[39;00m \u001b[38;5;28misinstance\u001b[39m(casted_key, \u001b[38;5;28mslice\u001b[39m) \u001b[38;5;129;01mor\u001b[39;00m (\n\u001b[0;32m   3793\u001b[0m         \u001b[38;5;28misinstance\u001b[39m(casted_key, abc\u001b[38;5;241m.\u001b[39mIterable)\n\u001b[0;32m   3794\u001b[0m         \u001b[38;5;129;01mand\u001b[39;00m \u001b[38;5;28many\u001b[39m(\u001b[38;5;28misinstance\u001b[39m(x, \u001b[38;5;28mslice\u001b[39m) \u001b[38;5;28;01mfor\u001b[39;00m x \u001b[38;5;129;01min\u001b[39;00m casted_key)\n\u001b[0;32m   3795\u001b[0m     ):\n\u001b[0;32m   3796\u001b[0m         \u001b[38;5;28;01mraise\u001b[39;00m InvalidIndexError(key)\n\u001b[1;32m-> 3797\u001b[0m     \u001b[38;5;28;01mraise\u001b[39;00m \u001b[38;5;167;01mKeyError\u001b[39;00m(key) \u001b[38;5;28;01mfrom\u001b[39;00m \u001b[38;5;21;01merr\u001b[39;00m\n\u001b[0;32m   3798\u001b[0m \u001b[38;5;28;01mexcept\u001b[39;00m \u001b[38;5;167;01mTypeError\u001b[39;00m:\n\u001b[0;32m   3799\u001b[0m     \u001b[38;5;66;03m# If we have a listlike key, _check_indexing_error will raise\u001b[39;00m\n\u001b[0;32m   3800\u001b[0m     \u001b[38;5;66;03m#  InvalidIndexError. Otherwise we fall through and re-raise\u001b[39;00m\n\u001b[0;32m   3801\u001b[0m     \u001b[38;5;66;03m#  the TypeError.\u001b[39;00m\n\u001b[0;32m   3802\u001b[0m     \u001b[38;5;28mself\u001b[39m\u001b[38;5;241m.\u001b[39m_check_indexing_error(key)\n",
      "\u001b[1;31mKeyError\u001b[0m: '1'"
     ]
    }
   ],
   "source": [
    "DataSet1['1']"
   ]
  },
  {
   "cell_type": "code",
   "execution_count": 63,
   "id": "6e53d7f4-9945-4232-ac7e-ac3ffdc988b2",
   "metadata": {},
   "outputs": [
    {
     "data": {
      "text/plain": [
       "E_Name      Mohan Raj M.\n",
       "E_ID                 102\n",
       "E_Desig         engineer\n",
       "E_Salary           50000\n",
       "Name: 1, dtype: object"
      ]
     },
     "execution_count": 63,
     "metadata": {},
     "output_type": "execute_result"
    }
   ],
   "source": [
    "DataSet1.loc[1]"
   ]
  },
  {
   "cell_type": "code",
   "execution_count": 64,
   "id": "be4c208c-00fb-4c33-adc7-9a526d03701d",
   "metadata": {},
   "outputs": [
    {
     "data": {
      "text/plain": [
       "E_Name      Mohan Raj M.\n",
       "E_ID                 102\n",
       "E_Desig         engineer\n",
       "E_Salary           50000\n",
       "Name: 1, dtype: object"
      ]
     },
     "execution_count": 64,
     "metadata": {},
     "output_type": "execute_result"
    }
   ],
   "source": [
    "DataSet1.iloc[1]"
   ]
  },
  {
   "cell_type": "code",
   "execution_count": 65,
   "id": "1a19cdf2-a2ba-4a11-973e-0dc210cf6979",
   "metadata": {},
   "outputs": [
    {
     "data": {
      "text/plain": [
       "0    101\n",
       "1    102\n",
       "2    103\n",
       "3    104\n",
       "4    106\n",
       "5    107\n",
       "6    108\n",
       "7    201\n",
       "8    204\n",
       "9    206\n",
       "Name: E_ID, dtype: int64"
      ]
     },
     "execution_count": 65,
     "metadata": {},
     "output_type": "execute_result"
    }
   ],
   "source": [
    "DataSet1.iloc[:,1]"
   ]
  },
  {
   "cell_type": "code",
   "execution_count": 66,
   "id": "86fc21f0-7f76-4c3c-abd6-67adff3075d8",
   "metadata": {},
   "outputs": [
    {
     "data": {
      "text/html": [
       "<div>\n",
       "<style scoped>\n",
       "    .dataframe tbody tr th:only-of-type {\n",
       "        vertical-align: middle;\n",
       "    }\n",
       "\n",
       "    .dataframe tbody tr th {\n",
       "        vertical-align: top;\n",
       "    }\n",
       "\n",
       "    .dataframe thead th {\n",
       "        text-align: right;\n",
       "    }\n",
       "</style>\n",
       "<table border=\"1\" class=\"dataframe\">\n",
       "  <thead>\n",
       "    <tr style=\"text-align: right;\">\n",
       "      <th></th>\n",
       "      <th>E_Name</th>\n",
       "      <th>E_ID</th>\n",
       "      <th>E_Desig</th>\n",
       "      <th>E_Salary</th>\n",
       "    </tr>\n",
       "  </thead>\n",
       "  <tbody>\n",
       "    <tr>\n",
       "      <th>1</th>\n",
       "      <td>Mohan Raj M.</td>\n",
       "      <td>102</td>\n",
       "      <td>engineer</td>\n",
       "      <td>50000</td>\n",
       "    </tr>\n",
       "    <tr>\n",
       "      <th>3</th>\n",
       "      <td>Ram Kumar</td>\n",
       "      <td>104</td>\n",
       "      <td>scientist</td>\n",
       "      <td>66000</td>\n",
       "    </tr>\n",
       "    <tr>\n",
       "      <th>5</th>\n",
       "      <td>K.Gopal</td>\n",
       "      <td>107</td>\n",
       "      <td>scientist</td>\n",
       "      <td>50000</td>\n",
       "    </tr>\n",
       "  </tbody>\n",
       "</table>\n",
       "</div>"
      ],
      "text/plain": [
       "         E_Name  E_ID    E_Desig  E_Salary\n",
       "1  Mohan Raj M.   102   engineer     50000\n",
       "3     Ram Kumar   104  scientist     66000\n",
       "5       K.Gopal   107  scientist     50000"
      ]
     },
     "execution_count": 66,
     "metadata": {},
     "output_type": "execute_result"
    }
   ],
   "source": [
    "DataSet1.loc[[1,3,5]]"
   ]
  },
  {
   "cell_type": "code",
   "execution_count": 67,
   "id": "e784b5be-05e6-4992-b478-c3bbe7333cfb",
   "metadata": {},
   "outputs": [
    {
     "data": {
      "text/html": [
       "<div>\n",
       "<style scoped>\n",
       "    .dataframe tbody tr th:only-of-type {\n",
       "        vertical-align: middle;\n",
       "    }\n",
       "\n",
       "    .dataframe tbody tr th {\n",
       "        vertical-align: top;\n",
       "    }\n",
       "\n",
       "    .dataframe thead th {\n",
       "        text-align: right;\n",
       "    }\n",
       "</style>\n",
       "<table border=\"1\" class=\"dataframe\">\n",
       "  <thead>\n",
       "    <tr style=\"text-align: right;\">\n",
       "      <th></th>\n",
       "      <th>E_Name</th>\n",
       "      <th>E_ID</th>\n",
       "      <th>E_Desig</th>\n",
       "      <th>E_Salary</th>\n",
       "    </tr>\n",
       "  </thead>\n",
       "  <tbody>\n",
       "    <tr>\n",
       "      <th>1</th>\n",
       "      <td>Mohan Raj M.</td>\n",
       "      <td>102</td>\n",
       "      <td>engineer</td>\n",
       "      <td>50000</td>\n",
       "    </tr>\n",
       "    <tr>\n",
       "      <th>2</th>\n",
       "      <td>M.Ram</td>\n",
       "      <td>103</td>\n",
       "      <td>scientist</td>\n",
       "      <td>80000</td>\n",
       "    </tr>\n",
       "    <tr>\n",
       "      <th>3</th>\n",
       "      <td>Ram Kumar</td>\n",
       "      <td>104</td>\n",
       "      <td>scientist</td>\n",
       "      <td>66000</td>\n",
       "    </tr>\n",
       "  </tbody>\n",
       "</table>\n",
       "</div>"
      ],
      "text/plain": [
       "         E_Name  E_ID    E_Desig  E_Salary\n",
       "1  Mohan Raj M.   102   engineer     50000\n",
       "2         M.Ram   103  scientist     80000\n",
       "3     Ram Kumar   104  scientist     66000"
      ]
     },
     "execution_count": 67,
     "metadata": {},
     "output_type": "execute_result"
    }
   ],
   "source": [
    "DataSet1.loc[1:3]"
   ]
  },
  {
   "cell_type": "code",
   "execution_count": 68,
   "id": "6ed0e3ec-07e2-4078-b246-4592e1b32c5c",
   "metadata": {},
   "outputs": [
    {
     "data": {
      "text/plain": [
       "50000"
      ]
     },
     "execution_count": 68,
     "metadata": {},
     "output_type": "execute_result"
    }
   ],
   "source": [
    "DataSet1.iloc[1,3]"
   ]
  },
  {
   "cell_type": "code",
   "execution_count": 69,
   "id": "3ab3f4e8-63ac-4075-bbbd-24d6f9be9a4a",
   "metadata": {},
   "outputs": [
    {
     "data": {
      "text/plain": [
       "103"
      ]
     },
     "execution_count": 69,
     "metadata": {},
     "output_type": "execute_result"
    }
   ],
   "source": [
    "DataSet1.loc[2,'E_ID']"
   ]
  },
  {
   "cell_type": "code",
   "execution_count": 70,
   "id": "a7bfba9f-bb9c-4995-b3ad-df944dca0ae8",
   "metadata": {},
   "outputs": [],
   "source": [
    "DataSet1.loc[2,'E_ID']=110"
   ]
  },
  {
   "cell_type": "code",
   "execution_count": 71,
   "id": "b608e677-47dc-4cee-b8f7-672e0d1762ef",
   "metadata": {},
   "outputs": [
    {
     "data": {
      "text/html": [
       "<div>\n",
       "<style scoped>\n",
       "    .dataframe tbody tr th:only-of-type {\n",
       "        vertical-align: middle;\n",
       "    }\n",
       "\n",
       "    .dataframe tbody tr th {\n",
       "        vertical-align: top;\n",
       "    }\n",
       "\n",
       "    .dataframe thead th {\n",
       "        text-align: right;\n",
       "    }\n",
       "</style>\n",
       "<table border=\"1\" class=\"dataframe\">\n",
       "  <thead>\n",
       "    <tr style=\"text-align: right;\">\n",
       "      <th></th>\n",
       "      <th>E_Name</th>\n",
       "      <th>E_ID</th>\n",
       "      <th>E_Desig</th>\n",
       "      <th>E_Salary</th>\n",
       "    </tr>\n",
       "  </thead>\n",
       "  <tbody>\n",
       "    <tr>\n",
       "      <th>0</th>\n",
       "      <td>K.Raj</td>\n",
       "      <td>101</td>\n",
       "      <td>scientist</td>\n",
       "      <td>54000</td>\n",
       "    </tr>\n",
       "    <tr>\n",
       "      <th>1</th>\n",
       "      <td>Mohan Raj M.</td>\n",
       "      <td>102</td>\n",
       "      <td>engineer</td>\n",
       "      <td>50000</td>\n",
       "    </tr>\n",
       "    <tr>\n",
       "      <th>2</th>\n",
       "      <td>M.Ram</td>\n",
       "      <td>110</td>\n",
       "      <td>scientist</td>\n",
       "      <td>80000</td>\n",
       "    </tr>\n",
       "    <tr>\n",
       "      <th>3</th>\n",
       "      <td>Ram Kumar</td>\n",
       "      <td>104</td>\n",
       "      <td>scientist</td>\n",
       "      <td>66000</td>\n",
       "    </tr>\n",
       "    <tr>\n",
       "      <th>4</th>\n",
       "      <td>Mohan Babu K.K.</td>\n",
       "      <td>106</td>\n",
       "      <td>officer</td>\n",
       "      <td>57000</td>\n",
       "    </tr>\n",
       "    <tr>\n",
       "      <th>5</th>\n",
       "      <td>K.Gopal</td>\n",
       "      <td>107</td>\n",
       "      <td>scientist</td>\n",
       "      <td>50000</td>\n",
       "    </tr>\n",
       "    <tr>\n",
       "      <th>6</th>\n",
       "      <td>Anil Raj M.</td>\n",
       "      <td>108</td>\n",
       "      <td>engineer</td>\n",
       "      <td>62000</td>\n",
       "    </tr>\n",
       "    <tr>\n",
       "      <th>7</th>\n",
       "      <td>Amala P.</td>\n",
       "      <td>201</td>\n",
       "      <td>scientist</td>\n",
       "      <td>70000</td>\n",
       "    </tr>\n",
       "    <tr>\n",
       "      <th>8</th>\n",
       "      <td>Uma</td>\n",
       "      <td>204</td>\n",
       "      <td>officer</td>\n",
       "      <td>60000</td>\n",
       "    </tr>\n",
       "    <tr>\n",
       "      <th>9</th>\n",
       "      <td>Suma</td>\n",
       "      <td>206</td>\n",
       "      <td>engineer</td>\n",
       "      <td>57000</td>\n",
       "    </tr>\n",
       "  </tbody>\n",
       "</table>\n",
       "</div>"
      ],
      "text/plain": [
       "            E_Name  E_ID    E_Desig  E_Salary\n",
       "0            K.Raj   101  scientist     54000\n",
       "1     Mohan Raj M.   102   engineer     50000\n",
       "2            M.Ram   110  scientist     80000\n",
       "3        Ram Kumar   104  scientist     66000\n",
       "4  Mohan Babu K.K.   106    officer     57000\n",
       "5          K.Gopal   107  scientist     50000\n",
       "6      Anil Raj M.   108   engineer     62000\n",
       "7         Amala P.   201  scientist     70000\n",
       "8             Uma    204    officer     60000\n",
       "9             Suma   206   engineer     57000"
      ]
     },
     "execution_count": 71,
     "metadata": {},
     "output_type": "execute_result"
    }
   ],
   "source": [
    "DataSet1"
   ]
  },
  {
   "cell_type": "code",
   "execution_count": 72,
   "id": "5eb35c86-fb4a-4f9a-b18c-949fe2b19c15",
   "metadata": {},
   "outputs": [
    {
     "ename": "KeyError",
     "evalue": "\"['E_ID'] not found in axis\"",
     "output_type": "error",
     "traceback": [
      "\u001b[1;31m---------------------------------------------------------------------------\u001b[0m",
      "\u001b[1;31mKeyError\u001b[0m                                  Traceback (most recent call last)",
      "Cell \u001b[1;32mIn[72], line 1\u001b[0m\n\u001b[1;32m----> 1\u001b[0m \u001b[43mDataSet1\u001b[49m\u001b[38;5;241;43m.\u001b[39;49m\u001b[43mdrop\u001b[49m\u001b[43m(\u001b[49m\u001b[38;5;124;43m'\u001b[39;49m\u001b[38;5;124;43mE_ID\u001b[39;49m\u001b[38;5;124;43m'\u001b[39;49m\u001b[43m)\u001b[49m\n",
      "File \u001b[1;32m~\\AppData\\Local\\Programs\\Python\\Python311\\Lib\\site-packages\\pandas\\core\\frame.py:5347\u001b[0m, in \u001b[0;36mDataFrame.drop\u001b[1;34m(self, labels, axis, index, columns, level, inplace, errors)\u001b[0m\n\u001b[0;32m   5199\u001b[0m \u001b[38;5;28;01mdef\u001b[39;00m \u001b[38;5;21mdrop\u001b[39m(\n\u001b[0;32m   5200\u001b[0m     \u001b[38;5;28mself\u001b[39m,\n\u001b[0;32m   5201\u001b[0m     labels: IndexLabel \u001b[38;5;241m|\u001b[39m \u001b[38;5;28;01mNone\u001b[39;00m \u001b[38;5;241m=\u001b[39m \u001b[38;5;28;01mNone\u001b[39;00m,\n\u001b[1;32m   (...)\u001b[0m\n\u001b[0;32m   5208\u001b[0m     errors: IgnoreRaise \u001b[38;5;241m=\u001b[39m \u001b[38;5;124m\"\u001b[39m\u001b[38;5;124mraise\u001b[39m\u001b[38;5;124m\"\u001b[39m,\n\u001b[0;32m   5209\u001b[0m ) \u001b[38;5;241m-\u001b[39m\u001b[38;5;241m>\u001b[39m DataFrame \u001b[38;5;241m|\u001b[39m \u001b[38;5;28;01mNone\u001b[39;00m:\n\u001b[0;32m   5210\u001b[0m \u001b[38;5;250m    \u001b[39m\u001b[38;5;124;03m\"\"\"\u001b[39;00m\n\u001b[0;32m   5211\u001b[0m \u001b[38;5;124;03m    Drop specified labels from rows or columns.\u001b[39;00m\n\u001b[0;32m   5212\u001b[0m \n\u001b[1;32m   (...)\u001b[0m\n\u001b[0;32m   5345\u001b[0m \u001b[38;5;124;03m            weight  1.0     0.8\u001b[39;00m\n\u001b[0;32m   5346\u001b[0m \u001b[38;5;124;03m    \"\"\"\u001b[39;00m\n\u001b[1;32m-> 5347\u001b[0m     \u001b[38;5;28;01mreturn\u001b[39;00m \u001b[38;5;28;43msuper\u001b[39;49m\u001b[43m(\u001b[49m\u001b[43m)\u001b[49m\u001b[38;5;241;43m.\u001b[39;49m\u001b[43mdrop\u001b[49m\u001b[43m(\u001b[49m\n\u001b[0;32m   5348\u001b[0m \u001b[43m        \u001b[49m\u001b[43mlabels\u001b[49m\u001b[38;5;241;43m=\u001b[39;49m\u001b[43mlabels\u001b[49m\u001b[43m,\u001b[49m\n\u001b[0;32m   5349\u001b[0m \u001b[43m        \u001b[49m\u001b[43maxis\u001b[49m\u001b[38;5;241;43m=\u001b[39;49m\u001b[43maxis\u001b[49m\u001b[43m,\u001b[49m\n\u001b[0;32m   5350\u001b[0m \u001b[43m        \u001b[49m\u001b[43mindex\u001b[49m\u001b[38;5;241;43m=\u001b[39;49m\u001b[43mindex\u001b[49m\u001b[43m,\u001b[49m\n\u001b[0;32m   5351\u001b[0m \u001b[43m        \u001b[49m\u001b[43mcolumns\u001b[49m\u001b[38;5;241;43m=\u001b[39;49m\u001b[43mcolumns\u001b[49m\u001b[43m,\u001b[49m\n\u001b[0;32m   5352\u001b[0m \u001b[43m        \u001b[49m\u001b[43mlevel\u001b[49m\u001b[38;5;241;43m=\u001b[39;49m\u001b[43mlevel\u001b[49m\u001b[43m,\u001b[49m\n\u001b[0;32m   5353\u001b[0m \u001b[43m        \u001b[49m\u001b[43minplace\u001b[49m\u001b[38;5;241;43m=\u001b[39;49m\u001b[43minplace\u001b[49m\u001b[43m,\u001b[49m\n\u001b[0;32m   5354\u001b[0m \u001b[43m        \u001b[49m\u001b[43merrors\u001b[49m\u001b[38;5;241;43m=\u001b[39;49m\u001b[43merrors\u001b[49m\u001b[43m,\u001b[49m\n\u001b[0;32m   5355\u001b[0m \u001b[43m    \u001b[49m\u001b[43m)\u001b[49m\n",
      "File \u001b[1;32m~\\AppData\\Local\\Programs\\Python\\Python311\\Lib\\site-packages\\pandas\\core\\generic.py:4711\u001b[0m, in \u001b[0;36mNDFrame.drop\u001b[1;34m(self, labels, axis, index, columns, level, inplace, errors)\u001b[0m\n\u001b[0;32m   4709\u001b[0m \u001b[38;5;28;01mfor\u001b[39;00m axis, labels \u001b[38;5;129;01min\u001b[39;00m axes\u001b[38;5;241m.\u001b[39mitems():\n\u001b[0;32m   4710\u001b[0m     \u001b[38;5;28;01mif\u001b[39;00m labels \u001b[38;5;129;01mis\u001b[39;00m \u001b[38;5;129;01mnot\u001b[39;00m \u001b[38;5;28;01mNone\u001b[39;00m:\n\u001b[1;32m-> 4711\u001b[0m         obj \u001b[38;5;241m=\u001b[39m \u001b[43mobj\u001b[49m\u001b[38;5;241;43m.\u001b[39;49m\u001b[43m_drop_axis\u001b[49m\u001b[43m(\u001b[49m\u001b[43mlabels\u001b[49m\u001b[43m,\u001b[49m\u001b[43m \u001b[49m\u001b[43maxis\u001b[49m\u001b[43m,\u001b[49m\u001b[43m \u001b[49m\u001b[43mlevel\u001b[49m\u001b[38;5;241;43m=\u001b[39;49m\u001b[43mlevel\u001b[49m\u001b[43m,\u001b[49m\u001b[43m \u001b[49m\u001b[43merrors\u001b[49m\u001b[38;5;241;43m=\u001b[39;49m\u001b[43merrors\u001b[49m\u001b[43m)\u001b[49m\n\u001b[0;32m   4713\u001b[0m \u001b[38;5;28;01mif\u001b[39;00m inplace:\n\u001b[0;32m   4714\u001b[0m     \u001b[38;5;28mself\u001b[39m\u001b[38;5;241m.\u001b[39m_update_inplace(obj)\n",
      "File \u001b[1;32m~\\AppData\\Local\\Programs\\Python\\Python311\\Lib\\site-packages\\pandas\\core\\generic.py:4753\u001b[0m, in \u001b[0;36mNDFrame._drop_axis\u001b[1;34m(self, labels, axis, level, errors, only_slice)\u001b[0m\n\u001b[0;32m   4751\u001b[0m         new_axis \u001b[38;5;241m=\u001b[39m axis\u001b[38;5;241m.\u001b[39mdrop(labels, level\u001b[38;5;241m=\u001b[39mlevel, errors\u001b[38;5;241m=\u001b[39merrors)\n\u001b[0;32m   4752\u001b[0m     \u001b[38;5;28;01melse\u001b[39;00m:\n\u001b[1;32m-> 4753\u001b[0m         new_axis \u001b[38;5;241m=\u001b[39m \u001b[43maxis\u001b[49m\u001b[38;5;241;43m.\u001b[39;49m\u001b[43mdrop\u001b[49m\u001b[43m(\u001b[49m\u001b[43mlabels\u001b[49m\u001b[43m,\u001b[49m\u001b[43m \u001b[49m\u001b[43merrors\u001b[49m\u001b[38;5;241;43m=\u001b[39;49m\u001b[43merrors\u001b[49m\u001b[43m)\u001b[49m\n\u001b[0;32m   4754\u001b[0m     indexer \u001b[38;5;241m=\u001b[39m axis\u001b[38;5;241m.\u001b[39mget_indexer(new_axis)\n\u001b[0;32m   4756\u001b[0m \u001b[38;5;66;03m# Case for non-unique axis\u001b[39;00m\n\u001b[0;32m   4757\u001b[0m \u001b[38;5;28;01melse\u001b[39;00m:\n",
      "File \u001b[1;32m~\\AppData\\Local\\Programs\\Python\\Python311\\Lib\\site-packages\\pandas\\core\\indexes\\base.py:6992\u001b[0m, in \u001b[0;36mIndex.drop\u001b[1;34m(self, labels, errors)\u001b[0m\n\u001b[0;32m   6990\u001b[0m \u001b[38;5;28;01mif\u001b[39;00m mask\u001b[38;5;241m.\u001b[39many():\n\u001b[0;32m   6991\u001b[0m     \u001b[38;5;28;01mif\u001b[39;00m errors \u001b[38;5;241m!=\u001b[39m \u001b[38;5;124m\"\u001b[39m\u001b[38;5;124mignore\u001b[39m\u001b[38;5;124m\"\u001b[39m:\n\u001b[1;32m-> 6992\u001b[0m         \u001b[38;5;28;01mraise\u001b[39;00m \u001b[38;5;167;01mKeyError\u001b[39;00m(\u001b[38;5;124mf\u001b[39m\u001b[38;5;124m\"\u001b[39m\u001b[38;5;132;01m{\u001b[39;00mlabels[mask]\u001b[38;5;241m.\u001b[39mtolist()\u001b[38;5;132;01m}\u001b[39;00m\u001b[38;5;124m not found in axis\u001b[39m\u001b[38;5;124m\"\u001b[39m)\n\u001b[0;32m   6993\u001b[0m     indexer \u001b[38;5;241m=\u001b[39m indexer[\u001b[38;5;241m~\u001b[39mmask]\n\u001b[0;32m   6994\u001b[0m \u001b[38;5;28;01mreturn\u001b[39;00m \u001b[38;5;28mself\u001b[39m\u001b[38;5;241m.\u001b[39mdelete(indexer)\n",
      "\u001b[1;31mKeyError\u001b[0m: \"['E_ID'] not found in axis\""
     ]
    }
   ],
   "source": [
    "DataSet1.drop('E_ID')"
   ]
  },
  {
   "cell_type": "code",
   "execution_count": 73,
   "id": "1103530f-e43c-4e29-80bb-b1fcf7a7f1e7",
   "metadata": {},
   "outputs": [
    {
     "data": {
      "text/html": [
       "<div>\n",
       "<style scoped>\n",
       "    .dataframe tbody tr th:only-of-type {\n",
       "        vertical-align: middle;\n",
       "    }\n",
       "\n",
       "    .dataframe tbody tr th {\n",
       "        vertical-align: top;\n",
       "    }\n",
       "\n",
       "    .dataframe thead th {\n",
       "        text-align: right;\n",
       "    }\n",
       "</style>\n",
       "<table border=\"1\" class=\"dataframe\">\n",
       "  <thead>\n",
       "    <tr style=\"text-align: right;\">\n",
       "      <th></th>\n",
       "      <th>E_Name</th>\n",
       "      <th>E_Desig</th>\n",
       "      <th>E_Salary</th>\n",
       "    </tr>\n",
       "  </thead>\n",
       "  <tbody>\n",
       "    <tr>\n",
       "      <th>0</th>\n",
       "      <td>K.Raj</td>\n",
       "      <td>scientist</td>\n",
       "      <td>54000</td>\n",
       "    </tr>\n",
       "    <tr>\n",
       "      <th>1</th>\n",
       "      <td>Mohan Raj M.</td>\n",
       "      <td>engineer</td>\n",
       "      <td>50000</td>\n",
       "    </tr>\n",
       "    <tr>\n",
       "      <th>2</th>\n",
       "      <td>M.Ram</td>\n",
       "      <td>scientist</td>\n",
       "      <td>80000</td>\n",
       "    </tr>\n",
       "    <tr>\n",
       "      <th>3</th>\n",
       "      <td>Ram Kumar</td>\n",
       "      <td>scientist</td>\n",
       "      <td>66000</td>\n",
       "    </tr>\n",
       "    <tr>\n",
       "      <th>4</th>\n",
       "      <td>Mohan Babu K.K.</td>\n",
       "      <td>officer</td>\n",
       "      <td>57000</td>\n",
       "    </tr>\n",
       "    <tr>\n",
       "      <th>5</th>\n",
       "      <td>K.Gopal</td>\n",
       "      <td>scientist</td>\n",
       "      <td>50000</td>\n",
       "    </tr>\n",
       "    <tr>\n",
       "      <th>6</th>\n",
       "      <td>Anil Raj M.</td>\n",
       "      <td>engineer</td>\n",
       "      <td>62000</td>\n",
       "    </tr>\n",
       "    <tr>\n",
       "      <th>7</th>\n",
       "      <td>Amala P.</td>\n",
       "      <td>scientist</td>\n",
       "      <td>70000</td>\n",
       "    </tr>\n",
       "    <tr>\n",
       "      <th>8</th>\n",
       "      <td>Uma</td>\n",
       "      <td>officer</td>\n",
       "      <td>60000</td>\n",
       "    </tr>\n",
       "    <tr>\n",
       "      <th>9</th>\n",
       "      <td>Suma</td>\n",
       "      <td>engineer</td>\n",
       "      <td>57000</td>\n",
       "    </tr>\n",
       "  </tbody>\n",
       "</table>\n",
       "</div>"
      ],
      "text/plain": [
       "            E_Name    E_Desig  E_Salary\n",
       "0            K.Raj  scientist     54000\n",
       "1     Mohan Raj M.   engineer     50000\n",
       "2            M.Ram  scientist     80000\n",
       "3        Ram Kumar  scientist     66000\n",
       "4  Mohan Babu K.K.    officer     57000\n",
       "5          K.Gopal  scientist     50000\n",
       "6      Anil Raj M.   engineer     62000\n",
       "7         Amala P.  scientist     70000\n",
       "8             Uma     officer     60000\n",
       "9             Suma   engineer     57000"
      ]
     },
     "execution_count": 73,
     "metadata": {},
     "output_type": "execute_result"
    }
   ],
   "source": [
    "DataSet1.drop('E_ID',axis=1)"
   ]
  },
  {
   "cell_type": "code",
   "execution_count": 74,
   "id": "881849be-6634-4b98-84d5-b90187fedc15",
   "metadata": {},
   "outputs": [
    {
     "data": {
      "text/html": [
       "<div>\n",
       "<style scoped>\n",
       "    .dataframe tbody tr th:only-of-type {\n",
       "        vertical-align: middle;\n",
       "    }\n",
       "\n",
       "    .dataframe tbody tr th {\n",
       "        vertical-align: top;\n",
       "    }\n",
       "\n",
       "    .dataframe thead th {\n",
       "        text-align: right;\n",
       "    }\n",
       "</style>\n",
       "<table border=\"1\" class=\"dataframe\">\n",
       "  <thead>\n",
       "    <tr style=\"text-align: right;\">\n",
       "      <th></th>\n",
       "      <th>E_Name</th>\n",
       "      <th>E_ID</th>\n",
       "      <th>E_Desig</th>\n",
       "      <th>E_Salary</th>\n",
       "    </tr>\n",
       "  </thead>\n",
       "  <tbody>\n",
       "    <tr>\n",
       "      <th>0</th>\n",
       "      <td>K.Raj</td>\n",
       "      <td>101</td>\n",
       "      <td>scientist</td>\n",
       "      <td>54000</td>\n",
       "    </tr>\n",
       "    <tr>\n",
       "      <th>1</th>\n",
       "      <td>Mohan Raj M.</td>\n",
       "      <td>102</td>\n",
       "      <td>engineer</td>\n",
       "      <td>50000</td>\n",
       "    </tr>\n",
       "    <tr>\n",
       "      <th>2</th>\n",
       "      <td>M.Ram</td>\n",
       "      <td>110</td>\n",
       "      <td>scientist</td>\n",
       "      <td>80000</td>\n",
       "    </tr>\n",
       "    <tr>\n",
       "      <th>3</th>\n",
       "      <td>Ram Kumar</td>\n",
       "      <td>104</td>\n",
       "      <td>scientist</td>\n",
       "      <td>66000</td>\n",
       "    </tr>\n",
       "    <tr>\n",
       "      <th>4</th>\n",
       "      <td>Mohan Babu K.K.</td>\n",
       "      <td>106</td>\n",
       "      <td>officer</td>\n",
       "      <td>57000</td>\n",
       "    </tr>\n",
       "    <tr>\n",
       "      <th>5</th>\n",
       "      <td>K.Gopal</td>\n",
       "      <td>107</td>\n",
       "      <td>scientist</td>\n",
       "      <td>50000</td>\n",
       "    </tr>\n",
       "    <tr>\n",
       "      <th>6</th>\n",
       "      <td>Anil Raj M.</td>\n",
       "      <td>108</td>\n",
       "      <td>engineer</td>\n",
       "      <td>62000</td>\n",
       "    </tr>\n",
       "    <tr>\n",
       "      <th>7</th>\n",
       "      <td>Amala P.</td>\n",
       "      <td>201</td>\n",
       "      <td>scientist</td>\n",
       "      <td>70000</td>\n",
       "    </tr>\n",
       "    <tr>\n",
       "      <th>8</th>\n",
       "      <td>Uma</td>\n",
       "      <td>204</td>\n",
       "      <td>officer</td>\n",
       "      <td>60000</td>\n",
       "    </tr>\n",
       "    <tr>\n",
       "      <th>9</th>\n",
       "      <td>Suma</td>\n",
       "      <td>206</td>\n",
       "      <td>engineer</td>\n",
       "      <td>57000</td>\n",
       "    </tr>\n",
       "  </tbody>\n",
       "</table>\n",
       "</div>"
      ],
      "text/plain": [
       "            E_Name  E_ID    E_Desig  E_Salary\n",
       "0            K.Raj   101  scientist     54000\n",
       "1     Mohan Raj M.   102   engineer     50000\n",
       "2            M.Ram   110  scientist     80000\n",
       "3        Ram Kumar   104  scientist     66000\n",
       "4  Mohan Babu K.K.   106    officer     57000\n",
       "5          K.Gopal   107  scientist     50000\n",
       "6      Anil Raj M.   108   engineer     62000\n",
       "7         Amala P.   201  scientist     70000\n",
       "8             Uma    204    officer     60000\n",
       "9             Suma   206   engineer     57000"
      ]
     },
     "execution_count": 74,
     "metadata": {},
     "output_type": "execute_result"
    }
   ],
   "source": [
    "DataSet1"
   ]
  },
  {
   "cell_type": "code",
   "execution_count": 75,
   "id": "0ab78a48-c45f-4d9d-930b-a0a1b81ede32",
   "metadata": {},
   "outputs": [],
   "source": [
    "DataSet1.drop('E_ID',axis=1,inplace=True)"
   ]
  },
  {
   "cell_type": "code",
   "execution_count": 76,
   "id": "3388e599-b252-49e6-b9b5-96fad22804f5",
   "metadata": {},
   "outputs": [
    {
     "data": {
      "text/html": [
       "<div>\n",
       "<style scoped>\n",
       "    .dataframe tbody tr th:only-of-type {\n",
       "        vertical-align: middle;\n",
       "    }\n",
       "\n",
       "    .dataframe tbody tr th {\n",
       "        vertical-align: top;\n",
       "    }\n",
       "\n",
       "    .dataframe thead th {\n",
       "        text-align: right;\n",
       "    }\n",
       "</style>\n",
       "<table border=\"1\" class=\"dataframe\">\n",
       "  <thead>\n",
       "    <tr style=\"text-align: right;\">\n",
       "      <th></th>\n",
       "      <th>E_Name</th>\n",
       "      <th>E_Desig</th>\n",
       "      <th>E_Salary</th>\n",
       "    </tr>\n",
       "  </thead>\n",
       "  <tbody>\n",
       "    <tr>\n",
       "      <th>0</th>\n",
       "      <td>K.Raj</td>\n",
       "      <td>scientist</td>\n",
       "      <td>54000</td>\n",
       "    </tr>\n",
       "    <tr>\n",
       "      <th>1</th>\n",
       "      <td>Mohan Raj M.</td>\n",
       "      <td>engineer</td>\n",
       "      <td>50000</td>\n",
       "    </tr>\n",
       "    <tr>\n",
       "      <th>2</th>\n",
       "      <td>M.Ram</td>\n",
       "      <td>scientist</td>\n",
       "      <td>80000</td>\n",
       "    </tr>\n",
       "    <tr>\n",
       "      <th>3</th>\n",
       "      <td>Ram Kumar</td>\n",
       "      <td>scientist</td>\n",
       "      <td>66000</td>\n",
       "    </tr>\n",
       "    <tr>\n",
       "      <th>4</th>\n",
       "      <td>Mohan Babu K.K.</td>\n",
       "      <td>officer</td>\n",
       "      <td>57000</td>\n",
       "    </tr>\n",
       "    <tr>\n",
       "      <th>5</th>\n",
       "      <td>K.Gopal</td>\n",
       "      <td>scientist</td>\n",
       "      <td>50000</td>\n",
       "    </tr>\n",
       "    <tr>\n",
       "      <th>6</th>\n",
       "      <td>Anil Raj M.</td>\n",
       "      <td>engineer</td>\n",
       "      <td>62000</td>\n",
       "    </tr>\n",
       "    <tr>\n",
       "      <th>7</th>\n",
       "      <td>Amala P.</td>\n",
       "      <td>scientist</td>\n",
       "      <td>70000</td>\n",
       "    </tr>\n",
       "    <tr>\n",
       "      <th>8</th>\n",
       "      <td>Uma</td>\n",
       "      <td>officer</td>\n",
       "      <td>60000</td>\n",
       "    </tr>\n",
       "    <tr>\n",
       "      <th>9</th>\n",
       "      <td>Suma</td>\n",
       "      <td>engineer</td>\n",
       "      <td>57000</td>\n",
       "    </tr>\n",
       "  </tbody>\n",
       "</table>\n",
       "</div>"
      ],
      "text/plain": [
       "            E_Name    E_Desig  E_Salary\n",
       "0            K.Raj  scientist     54000\n",
       "1     Mohan Raj M.   engineer     50000\n",
       "2            M.Ram  scientist     80000\n",
       "3        Ram Kumar  scientist     66000\n",
       "4  Mohan Babu K.K.    officer     57000\n",
       "5          K.Gopal  scientist     50000\n",
       "6      Anil Raj M.   engineer     62000\n",
       "7         Amala P.  scientist     70000\n",
       "8             Uma     officer     60000\n",
       "9             Suma   engineer     57000"
      ]
     },
     "execution_count": 76,
     "metadata": {},
     "output_type": "execute_result"
    }
   ],
   "source": [
    "DataSet1"
   ]
  },
  {
   "cell_type": "code",
   "execution_count": 77,
   "id": "016dc249-f18e-4e34-9ed9-6e572c1e168c",
   "metadata": {},
   "outputs": [],
   "source": [
    "PhoneNo=[932287278, 962287278, 914287275, 914287335, 962387278,932287278,962287278, 89287275,94287335, 962387278]\n"
   ]
  },
  {
   "cell_type": "code",
   "execution_count": 78,
   "id": "a7018dcb-e338-4c83-8bac-fa92e66e1d68",
   "metadata": {},
   "outputs": [
    {
     "data": {
      "text/plain": [
       "[932287278,\n",
       " 962287278,\n",
       " 914287275,\n",
       " 914287335,\n",
       " 962387278,\n",
       " 932287278,\n",
       " 962287278,\n",
       " 89287275,\n",
       " 94287335,\n",
       " 962387278]"
      ]
     },
     "execution_count": 78,
     "metadata": {},
     "output_type": "execute_result"
    }
   ],
   "source": [
    "PhoneNo"
   ]
  },
  {
   "cell_type": "code",
   "execution_count": 79,
   "id": "4db09701-5383-4176-8817-52ea75bcfa76",
   "metadata": {},
   "outputs": [],
   "source": [
    "DataSet1['PhoneNo']=PhoneNo"
   ]
  },
  {
   "cell_type": "code",
   "execution_count": 80,
   "id": "d2ed1756-7854-4672-9ead-16c427fa25fe",
   "metadata": {},
   "outputs": [
    {
     "data": {
      "text/html": [
       "<div>\n",
       "<style scoped>\n",
       "    .dataframe tbody tr th:only-of-type {\n",
       "        vertical-align: middle;\n",
       "    }\n",
       "\n",
       "    .dataframe tbody tr th {\n",
       "        vertical-align: top;\n",
       "    }\n",
       "\n",
       "    .dataframe thead th {\n",
       "        text-align: right;\n",
       "    }\n",
       "</style>\n",
       "<table border=\"1\" class=\"dataframe\">\n",
       "  <thead>\n",
       "    <tr style=\"text-align: right;\">\n",
       "      <th></th>\n",
       "      <th>E_Name</th>\n",
       "      <th>E_Desig</th>\n",
       "      <th>E_Salary</th>\n",
       "      <th>PhoneNo</th>\n",
       "    </tr>\n",
       "  </thead>\n",
       "  <tbody>\n",
       "    <tr>\n",
       "      <th>0</th>\n",
       "      <td>K.Raj</td>\n",
       "      <td>scientist</td>\n",
       "      <td>54000</td>\n",
       "      <td>932287278</td>\n",
       "    </tr>\n",
       "    <tr>\n",
       "      <th>1</th>\n",
       "      <td>Mohan Raj M.</td>\n",
       "      <td>engineer</td>\n",
       "      <td>50000</td>\n",
       "      <td>962287278</td>\n",
       "    </tr>\n",
       "    <tr>\n",
       "      <th>2</th>\n",
       "      <td>M.Ram</td>\n",
       "      <td>scientist</td>\n",
       "      <td>80000</td>\n",
       "      <td>914287275</td>\n",
       "    </tr>\n",
       "    <tr>\n",
       "      <th>3</th>\n",
       "      <td>Ram Kumar</td>\n",
       "      <td>scientist</td>\n",
       "      <td>66000</td>\n",
       "      <td>914287335</td>\n",
       "    </tr>\n",
       "    <tr>\n",
       "      <th>4</th>\n",
       "      <td>Mohan Babu K.K.</td>\n",
       "      <td>officer</td>\n",
       "      <td>57000</td>\n",
       "      <td>962387278</td>\n",
       "    </tr>\n",
       "    <tr>\n",
       "      <th>5</th>\n",
       "      <td>K.Gopal</td>\n",
       "      <td>scientist</td>\n",
       "      <td>50000</td>\n",
       "      <td>932287278</td>\n",
       "    </tr>\n",
       "    <tr>\n",
       "      <th>6</th>\n",
       "      <td>Anil Raj M.</td>\n",
       "      <td>engineer</td>\n",
       "      <td>62000</td>\n",
       "      <td>962287278</td>\n",
       "    </tr>\n",
       "    <tr>\n",
       "      <th>7</th>\n",
       "      <td>Amala P.</td>\n",
       "      <td>scientist</td>\n",
       "      <td>70000</td>\n",
       "      <td>89287275</td>\n",
       "    </tr>\n",
       "    <tr>\n",
       "      <th>8</th>\n",
       "      <td>Uma</td>\n",
       "      <td>officer</td>\n",
       "      <td>60000</td>\n",
       "      <td>94287335</td>\n",
       "    </tr>\n",
       "    <tr>\n",
       "      <th>9</th>\n",
       "      <td>Suma</td>\n",
       "      <td>engineer</td>\n",
       "      <td>57000</td>\n",
       "      <td>962387278</td>\n",
       "    </tr>\n",
       "  </tbody>\n",
       "</table>\n",
       "</div>"
      ],
      "text/plain": [
       "            E_Name    E_Desig  E_Salary    PhoneNo\n",
       "0            K.Raj  scientist     54000  932287278\n",
       "1     Mohan Raj M.   engineer     50000  962287278\n",
       "2            M.Ram  scientist     80000  914287275\n",
       "3        Ram Kumar  scientist     66000  914287335\n",
       "4  Mohan Babu K.K.    officer     57000  962387278\n",
       "5          K.Gopal  scientist     50000  932287278\n",
       "6      Anil Raj M.   engineer     62000  962287278\n",
       "7         Amala P.  scientist     70000   89287275\n",
       "8             Uma     officer     60000   94287335\n",
       "9             Suma   engineer     57000  962387278"
      ]
     },
     "execution_count": 80,
     "metadata": {},
     "output_type": "execute_result"
    }
   ],
   "source": [
    "DataSet1"
   ]
  },
  {
   "cell_type": "code",
   "execution_count": 81,
   "id": "6ceaffd5-6737-4fb7-8e85-ba3fa01aa917",
   "metadata": {},
   "outputs": [
    {
     "data": {
      "text/html": [
       "<div>\n",
       "<style scoped>\n",
       "    .dataframe tbody tr th:only-of-type {\n",
       "        vertical-align: middle;\n",
       "    }\n",
       "\n",
       "    .dataframe tbody tr th {\n",
       "        vertical-align: top;\n",
       "    }\n",
       "\n",
       "    .dataframe thead th {\n",
       "        text-align: right;\n",
       "    }\n",
       "</style>\n",
       "<table border=\"1\" class=\"dataframe\">\n",
       "  <thead>\n",
       "    <tr style=\"text-align: right;\">\n",
       "      <th></th>\n",
       "      <th>E_Name</th>\n",
       "      <th>E_Desig</th>\n",
       "      <th>E_Salary</th>\n",
       "      <th>PhoneNo</th>\n",
       "      <th>Mobile</th>\n",
       "    </tr>\n",
       "  </thead>\n",
       "  <tbody>\n",
       "    <tr>\n",
       "      <th>0</th>\n",
       "      <td>K.Raj</td>\n",
       "      <td>scientist</td>\n",
       "      <td>54000</td>\n",
       "      <td>932287278</td>\n",
       "      <td>932287278</td>\n",
       "    </tr>\n",
       "    <tr>\n",
       "      <th>1</th>\n",
       "      <td>Mohan Raj M.</td>\n",
       "      <td>engineer</td>\n",
       "      <td>50000</td>\n",
       "      <td>962287278</td>\n",
       "      <td>962287278</td>\n",
       "    </tr>\n",
       "    <tr>\n",
       "      <th>2</th>\n",
       "      <td>M.Ram</td>\n",
       "      <td>scientist</td>\n",
       "      <td>80000</td>\n",
       "      <td>914287275</td>\n",
       "      <td>914287275</td>\n",
       "    </tr>\n",
       "    <tr>\n",
       "      <th>3</th>\n",
       "      <td>Ram Kumar</td>\n",
       "      <td>scientist</td>\n",
       "      <td>66000</td>\n",
       "      <td>914287335</td>\n",
       "      <td>914287335</td>\n",
       "    </tr>\n",
       "    <tr>\n",
       "      <th>4</th>\n",
       "      <td>Mohan Babu K.K.</td>\n",
       "      <td>officer</td>\n",
       "      <td>57000</td>\n",
       "      <td>962387278</td>\n",
       "      <td>962387278</td>\n",
       "    </tr>\n",
       "    <tr>\n",
       "      <th>5</th>\n",
       "      <td>K.Gopal</td>\n",
       "      <td>scientist</td>\n",
       "      <td>50000</td>\n",
       "      <td>932287278</td>\n",
       "      <td>932287278</td>\n",
       "    </tr>\n",
       "    <tr>\n",
       "      <th>6</th>\n",
       "      <td>Anil Raj M.</td>\n",
       "      <td>engineer</td>\n",
       "      <td>62000</td>\n",
       "      <td>962287278</td>\n",
       "      <td>962287278</td>\n",
       "    </tr>\n",
       "    <tr>\n",
       "      <th>7</th>\n",
       "      <td>Amala P.</td>\n",
       "      <td>scientist</td>\n",
       "      <td>70000</td>\n",
       "      <td>89287275</td>\n",
       "      <td>89287275</td>\n",
       "    </tr>\n",
       "    <tr>\n",
       "      <th>8</th>\n",
       "      <td>Uma</td>\n",
       "      <td>officer</td>\n",
       "      <td>60000</td>\n",
       "      <td>94287335</td>\n",
       "      <td>94287335</td>\n",
       "    </tr>\n",
       "    <tr>\n",
       "      <th>9</th>\n",
       "      <td>Suma</td>\n",
       "      <td>engineer</td>\n",
       "      <td>57000</td>\n",
       "      <td>962387278</td>\n",
       "      <td>962387278</td>\n",
       "    </tr>\n",
       "  </tbody>\n",
       "</table>\n",
       "</div>"
      ],
      "text/plain": [
       "            E_Name    E_Desig  E_Salary    PhoneNo     Mobile\n",
       "0            K.Raj  scientist     54000  932287278  932287278\n",
       "1     Mohan Raj M.   engineer     50000  962287278  962287278\n",
       "2            M.Ram  scientist     80000  914287275  914287275\n",
       "3        Ram Kumar  scientist     66000  914287335  914287335\n",
       "4  Mohan Babu K.K.    officer     57000  962387278  962387278\n",
       "5          K.Gopal  scientist     50000  932287278  932287278\n",
       "6      Anil Raj M.   engineer     62000  962287278  962287278\n",
       "7         Amala P.  scientist     70000   89287275   89287275\n",
       "8             Uma     officer     60000   94287335   94287335\n",
       "9             Suma   engineer     57000  962387278  962387278"
      ]
     },
     "execution_count": 81,
     "metadata": {},
     "output_type": "execute_result"
    }
   ],
   "source": [
    "DataSet1.assign(Mobile=PhoneNo)"
   ]
  },
  {
   "cell_type": "code",
   "execution_count": 82,
   "id": "8caa669d-7181-45c9-a7d8-2b295ca8e7f7",
   "metadata": {},
   "outputs": [
    {
     "data": {
      "text/html": [
       "<div>\n",
       "<style scoped>\n",
       "    .dataframe tbody tr th:only-of-type {\n",
       "        vertical-align: middle;\n",
       "    }\n",
       "\n",
       "    .dataframe tbody tr th {\n",
       "        vertical-align: top;\n",
       "    }\n",
       "\n",
       "    .dataframe thead th {\n",
       "        text-align: right;\n",
       "    }\n",
       "</style>\n",
       "<table border=\"1\" class=\"dataframe\">\n",
       "  <thead>\n",
       "    <tr style=\"text-align: right;\">\n",
       "      <th></th>\n",
       "      <th>E_Name</th>\n",
       "      <th>E_Desig</th>\n",
       "      <th>E_Salary</th>\n",
       "      <th>PhoneNo</th>\n",
       "      <th>Mobile</th>\n",
       "      <th>inplace</th>\n",
       "    </tr>\n",
       "  </thead>\n",
       "  <tbody>\n",
       "    <tr>\n",
       "      <th>0</th>\n",
       "      <td>K.Raj</td>\n",
       "      <td>scientist</td>\n",
       "      <td>54000</td>\n",
       "      <td>932287278</td>\n",
       "      <td>932287278</td>\n",
       "      <td>True</td>\n",
       "    </tr>\n",
       "    <tr>\n",
       "      <th>1</th>\n",
       "      <td>Mohan Raj M.</td>\n",
       "      <td>engineer</td>\n",
       "      <td>50000</td>\n",
       "      <td>962287278</td>\n",
       "      <td>962287278</td>\n",
       "      <td>True</td>\n",
       "    </tr>\n",
       "    <tr>\n",
       "      <th>2</th>\n",
       "      <td>M.Ram</td>\n",
       "      <td>scientist</td>\n",
       "      <td>80000</td>\n",
       "      <td>914287275</td>\n",
       "      <td>914287275</td>\n",
       "      <td>True</td>\n",
       "    </tr>\n",
       "    <tr>\n",
       "      <th>3</th>\n",
       "      <td>Ram Kumar</td>\n",
       "      <td>scientist</td>\n",
       "      <td>66000</td>\n",
       "      <td>914287335</td>\n",
       "      <td>914287335</td>\n",
       "      <td>True</td>\n",
       "    </tr>\n",
       "    <tr>\n",
       "      <th>4</th>\n",
       "      <td>Mohan Babu K.K.</td>\n",
       "      <td>officer</td>\n",
       "      <td>57000</td>\n",
       "      <td>962387278</td>\n",
       "      <td>962387278</td>\n",
       "      <td>True</td>\n",
       "    </tr>\n",
       "    <tr>\n",
       "      <th>5</th>\n",
       "      <td>K.Gopal</td>\n",
       "      <td>scientist</td>\n",
       "      <td>50000</td>\n",
       "      <td>932287278</td>\n",
       "      <td>932287278</td>\n",
       "      <td>True</td>\n",
       "    </tr>\n",
       "    <tr>\n",
       "      <th>6</th>\n",
       "      <td>Anil Raj M.</td>\n",
       "      <td>engineer</td>\n",
       "      <td>62000</td>\n",
       "      <td>962287278</td>\n",
       "      <td>962287278</td>\n",
       "      <td>True</td>\n",
       "    </tr>\n",
       "    <tr>\n",
       "      <th>7</th>\n",
       "      <td>Amala P.</td>\n",
       "      <td>scientist</td>\n",
       "      <td>70000</td>\n",
       "      <td>89287275</td>\n",
       "      <td>89287275</td>\n",
       "      <td>True</td>\n",
       "    </tr>\n",
       "    <tr>\n",
       "      <th>8</th>\n",
       "      <td>Uma</td>\n",
       "      <td>officer</td>\n",
       "      <td>60000</td>\n",
       "      <td>94287335</td>\n",
       "      <td>94287335</td>\n",
       "      <td>True</td>\n",
       "    </tr>\n",
       "    <tr>\n",
       "      <th>9</th>\n",
       "      <td>Suma</td>\n",
       "      <td>engineer</td>\n",
       "      <td>57000</td>\n",
       "      <td>962387278</td>\n",
       "      <td>962387278</td>\n",
       "      <td>True</td>\n",
       "    </tr>\n",
       "  </tbody>\n",
       "</table>\n",
       "</div>"
      ],
      "text/plain": [
       "            E_Name    E_Desig  E_Salary    PhoneNo     Mobile  inplace\n",
       "0            K.Raj  scientist     54000  932287278  932287278     True\n",
       "1     Mohan Raj M.   engineer     50000  962287278  962287278     True\n",
       "2            M.Ram  scientist     80000  914287275  914287275     True\n",
       "3        Ram Kumar  scientist     66000  914287335  914287335     True\n",
       "4  Mohan Babu K.K.    officer     57000  962387278  962387278     True\n",
       "5          K.Gopal  scientist     50000  932287278  932287278     True\n",
       "6      Anil Raj M.   engineer     62000  962287278  962287278     True\n",
       "7         Amala P.  scientist     70000   89287275   89287275     True\n",
       "8             Uma     officer     60000   94287335   94287335     True\n",
       "9             Suma   engineer     57000  962387278  962387278     True"
      ]
     },
     "execution_count": 82,
     "metadata": {},
     "output_type": "execute_result"
    }
   ],
   "source": [
    "DataSet1.assign(Mobile=PhoneNo,inplace=True)"
   ]
  },
  {
   "cell_type": "code",
   "execution_count": 83,
   "id": "bff0b18c-c98e-420f-b367-33f8018a8cfe",
   "metadata": {},
   "outputs": [
    {
     "data": {
      "text/html": [
       "<div>\n",
       "<style scoped>\n",
       "    .dataframe tbody tr th:only-of-type {\n",
       "        vertical-align: middle;\n",
       "    }\n",
       "\n",
       "    .dataframe tbody tr th {\n",
       "        vertical-align: top;\n",
       "    }\n",
       "\n",
       "    .dataframe thead th {\n",
       "        text-align: right;\n",
       "    }\n",
       "</style>\n",
       "<table border=\"1\" class=\"dataframe\">\n",
       "  <thead>\n",
       "    <tr style=\"text-align: right;\">\n",
       "      <th></th>\n",
       "      <th>E_Name</th>\n",
       "      <th>E_Desig</th>\n",
       "      <th>E_Salary</th>\n",
       "      <th>PhoneNo</th>\n",
       "    </tr>\n",
       "  </thead>\n",
       "  <tbody>\n",
       "    <tr>\n",
       "      <th>0</th>\n",
       "      <td>K.Raj</td>\n",
       "      <td>scientist</td>\n",
       "      <td>54000</td>\n",
       "      <td>932287278</td>\n",
       "    </tr>\n",
       "    <tr>\n",
       "      <th>1</th>\n",
       "      <td>Mohan Raj M.</td>\n",
       "      <td>engineer</td>\n",
       "      <td>50000</td>\n",
       "      <td>962287278</td>\n",
       "    </tr>\n",
       "    <tr>\n",
       "      <th>2</th>\n",
       "      <td>M.Ram</td>\n",
       "      <td>scientist</td>\n",
       "      <td>80000</td>\n",
       "      <td>914287275</td>\n",
       "    </tr>\n",
       "    <tr>\n",
       "      <th>3</th>\n",
       "      <td>Ram Kumar</td>\n",
       "      <td>scientist</td>\n",
       "      <td>66000</td>\n",
       "      <td>914287335</td>\n",
       "    </tr>\n",
       "    <tr>\n",
       "      <th>4</th>\n",
       "      <td>Mohan Babu K.K.</td>\n",
       "      <td>officer</td>\n",
       "      <td>57000</td>\n",
       "      <td>962387278</td>\n",
       "    </tr>\n",
       "    <tr>\n",
       "      <th>5</th>\n",
       "      <td>K.Gopal</td>\n",
       "      <td>scientist</td>\n",
       "      <td>50000</td>\n",
       "      <td>932287278</td>\n",
       "    </tr>\n",
       "    <tr>\n",
       "      <th>6</th>\n",
       "      <td>Anil Raj M.</td>\n",
       "      <td>engineer</td>\n",
       "      <td>62000</td>\n",
       "      <td>962287278</td>\n",
       "    </tr>\n",
       "    <tr>\n",
       "      <th>7</th>\n",
       "      <td>Amala P.</td>\n",
       "      <td>scientist</td>\n",
       "      <td>70000</td>\n",
       "      <td>89287275</td>\n",
       "    </tr>\n",
       "    <tr>\n",
       "      <th>8</th>\n",
       "      <td>Uma</td>\n",
       "      <td>officer</td>\n",
       "      <td>60000</td>\n",
       "      <td>94287335</td>\n",
       "    </tr>\n",
       "    <tr>\n",
       "      <th>9</th>\n",
       "      <td>Suma</td>\n",
       "      <td>engineer</td>\n",
       "      <td>57000</td>\n",
       "      <td>962387278</td>\n",
       "    </tr>\n",
       "  </tbody>\n",
       "</table>\n",
       "</div>"
      ],
      "text/plain": [
       "            E_Name    E_Desig  E_Salary    PhoneNo\n",
       "0            K.Raj  scientist     54000  932287278\n",
       "1     Mohan Raj M.   engineer     50000  962287278\n",
       "2            M.Ram  scientist     80000  914287275\n",
       "3        Ram Kumar  scientist     66000  914287335\n",
       "4  Mohan Babu K.K.    officer     57000  962387278\n",
       "5          K.Gopal  scientist     50000  932287278\n",
       "6      Anil Raj M.   engineer     62000  962287278\n",
       "7         Amala P.  scientist     70000   89287275\n",
       "8             Uma     officer     60000   94287335\n",
       "9             Suma   engineer     57000  962387278"
      ]
     },
     "execution_count": 83,
     "metadata": {},
     "output_type": "execute_result"
    }
   ],
   "source": [
    "DataSet1"
   ]
  },
  {
   "cell_type": "code",
   "execution_count": 84,
   "id": "d7d54aa7-fb41-4851-9296-f45049cb480d",
   "metadata": {},
   "outputs": [
    {
     "data": {
      "text/html": [
       "<div>\n",
       "<style scoped>\n",
       "    .dataframe tbody tr th:only-of-type {\n",
       "        vertical-align: middle;\n",
       "    }\n",
       "\n",
       "    .dataframe tbody tr th {\n",
       "        vertical-align: top;\n",
       "    }\n",
       "\n",
       "    .dataframe thead th {\n",
       "        text-align: right;\n",
       "    }\n",
       "</style>\n",
       "<table border=\"1\" class=\"dataframe\">\n",
       "  <thead>\n",
       "    <tr style=\"text-align: right;\">\n",
       "      <th></th>\n",
       "      <th>E_Name</th>\n",
       "      <th>E_Desig</th>\n",
       "      <th>E_Salary</th>\n",
       "      <th>PhoneNo</th>\n",
       "    </tr>\n",
       "  </thead>\n",
       "  <tbody>\n",
       "    <tr>\n",
       "      <th>0</th>\n",
       "      <td>K.Raj</td>\n",
       "      <td>scientist</td>\n",
       "      <td>54000</td>\n",
       "      <td>932287278</td>\n",
       "    </tr>\n",
       "    <tr>\n",
       "      <th>2</th>\n",
       "      <td>M.Ram</td>\n",
       "      <td>scientist</td>\n",
       "      <td>80000</td>\n",
       "      <td>914287275</td>\n",
       "    </tr>\n",
       "    <tr>\n",
       "      <th>3</th>\n",
       "      <td>Ram Kumar</td>\n",
       "      <td>scientist</td>\n",
       "      <td>66000</td>\n",
       "      <td>914287335</td>\n",
       "    </tr>\n",
       "    <tr>\n",
       "      <th>4</th>\n",
       "      <td>Mohan Babu K.K.</td>\n",
       "      <td>officer</td>\n",
       "      <td>57000</td>\n",
       "      <td>962387278</td>\n",
       "    </tr>\n",
       "    <tr>\n",
       "      <th>5</th>\n",
       "      <td>K.Gopal</td>\n",
       "      <td>scientist</td>\n",
       "      <td>50000</td>\n",
       "      <td>932287278</td>\n",
       "    </tr>\n",
       "    <tr>\n",
       "      <th>6</th>\n",
       "      <td>Anil Raj M.</td>\n",
       "      <td>engineer</td>\n",
       "      <td>62000</td>\n",
       "      <td>962287278</td>\n",
       "    </tr>\n",
       "    <tr>\n",
       "      <th>7</th>\n",
       "      <td>Amala P.</td>\n",
       "      <td>scientist</td>\n",
       "      <td>70000</td>\n",
       "      <td>89287275</td>\n",
       "    </tr>\n",
       "    <tr>\n",
       "      <th>8</th>\n",
       "      <td>Uma</td>\n",
       "      <td>officer</td>\n",
       "      <td>60000</td>\n",
       "      <td>94287335</td>\n",
       "    </tr>\n",
       "    <tr>\n",
       "      <th>9</th>\n",
       "      <td>Suma</td>\n",
       "      <td>engineer</td>\n",
       "      <td>57000</td>\n",
       "      <td>962387278</td>\n",
       "    </tr>\n",
       "  </tbody>\n",
       "</table>\n",
       "</div>"
      ],
      "text/plain": [
       "            E_Name    E_Desig  E_Salary    PhoneNo\n",
       "0            K.Raj  scientist     54000  932287278\n",
       "2            M.Ram  scientist     80000  914287275\n",
       "3        Ram Kumar  scientist     66000  914287335\n",
       "4  Mohan Babu K.K.    officer     57000  962387278\n",
       "5          K.Gopal  scientist     50000  932287278\n",
       "6      Anil Raj M.   engineer     62000  962287278\n",
       "7         Amala P.  scientist     70000   89287275\n",
       "8             Uma     officer     60000   94287335\n",
       "9             Suma   engineer     57000  962387278"
      ]
     },
     "execution_count": 84,
     "metadata": {},
     "output_type": "execute_result"
    }
   ],
   "source": [
    "DataSet1.drop(1)"
   ]
  },
  {
   "cell_type": "code",
   "execution_count": 85,
   "id": "4140b156-b5b9-4e87-a3d4-88cbe909ba51",
   "metadata": {},
   "outputs": [],
   "source": [
    "import pandas as pd"
   ]
  },
  {
   "cell_type": "code",
   "execution_count": 86,
   "id": "dd2c4441-54bb-4dcc-828b-b9e164703ec8",
   "metadata": {},
   "outputs": [],
   "source": [
    "DataSet2=pd.read_excel('Marks.xlsx')"
   ]
  },
  {
   "cell_type": "code",
   "execution_count": 87,
   "id": "bb503007-42e8-454b-b419-f72e3e10d1bd",
   "metadata": {},
   "outputs": [
    {
     "data": {
      "text/html": [
       "<div>\n",
       "<style scoped>\n",
       "    .dataframe tbody tr th:only-of-type {\n",
       "        vertical-align: middle;\n",
       "    }\n",
       "\n",
       "    .dataframe tbody tr th {\n",
       "        vertical-align: top;\n",
       "    }\n",
       "\n",
       "    .dataframe thead th {\n",
       "        text-align: right;\n",
       "    }\n",
       "</style>\n",
       "<table border=\"1\" class=\"dataframe\">\n",
       "  <thead>\n",
       "    <tr style=\"text-align: right;\">\n",
       "      <th></th>\n",
       "      <th>Sr. No</th>\n",
       "      <th>Name of Student</th>\n",
       "      <th>Registration No</th>\n",
       "      <th>Marks</th>\n",
       "    </tr>\n",
       "  </thead>\n",
       "  <tbody>\n",
       "    <tr>\n",
       "      <th>0</th>\n",
       "      <td>1</td>\n",
       "      <td>PAPPU JNANA MADHURI</td>\n",
       "      <td>2022UG1001</td>\n",
       "      <td>42</td>\n",
       "    </tr>\n",
       "    <tr>\n",
       "      <th>1</th>\n",
       "      <td>2</td>\n",
       "      <td>Ritesh Raj</td>\n",
       "      <td>2022UG1002</td>\n",
       "      <td>36</td>\n",
       "    </tr>\n",
       "    <tr>\n",
       "      <th>2</th>\n",
       "      <td>3</td>\n",
       "      <td>SHIVANSH RAJPUT</td>\n",
       "      <td>2022UG1003</td>\n",
       "      <td>48</td>\n",
       "    </tr>\n",
       "    <tr>\n",
       "      <th>3</th>\n",
       "      <td>4</td>\n",
       "      <td>ARION DAS</td>\n",
       "      <td>2022UG1004</td>\n",
       "      <td>44</td>\n",
       "    </tr>\n",
       "    <tr>\n",
       "      <th>4</th>\n",
       "      <td>5</td>\n",
       "      <td>KATRAVATH ROSHAN NAYAK</td>\n",
       "      <td>2022UG1005</td>\n",
       "      <td>20</td>\n",
       "    </tr>\n",
       "    <tr>\n",
       "      <th>...</th>\n",
       "      <td>...</td>\n",
       "      <td>...</td>\n",
       "      <td>...</td>\n",
       "      <td>...</td>\n",
       "    </tr>\n",
       "    <tr>\n",
       "      <th>67</th>\n",
       "      <td>68</td>\n",
       "      <td>VISHAL VERMA</td>\n",
       "      <td>2022UG1068</td>\n",
       "      <td>44</td>\n",
       "    </tr>\n",
       "    <tr>\n",
       "      <th>68</th>\n",
       "      <td>69</td>\n",
       "      <td>DEVANSH MISHRA</td>\n",
       "      <td>2022UG1069</td>\n",
       "      <td>38</td>\n",
       "    </tr>\n",
       "    <tr>\n",
       "      <th>69</th>\n",
       "      <td>70</td>\n",
       "      <td>Amit kumar kushwaha</td>\n",
       "      <td>2022UG1070</td>\n",
       "      <td>30</td>\n",
       "    </tr>\n",
       "    <tr>\n",
       "      <th>70</th>\n",
       "      <td>71</td>\n",
       "      <td>YASH MEHTA</td>\n",
       "      <td>2022UG1071</td>\n",
       "      <td>24</td>\n",
       "    </tr>\n",
       "    <tr>\n",
       "      <th>71</th>\n",
       "      <td>72</td>\n",
       "      <td>ANKIT KUMAR</td>\n",
       "      <td>2022UG1072</td>\n",
       "      <td>54</td>\n",
       "    </tr>\n",
       "  </tbody>\n",
       "</table>\n",
       "<p>72 rows × 4 columns</p>\n",
       "</div>"
      ],
      "text/plain": [
       "    Sr. No        Name of Student  Registration No   Marks\n",
       "0        1     PAPPU JNANA MADHURI       2022UG1001     42\n",
       "1        2              Ritesh Raj       2022UG1002     36\n",
       "2        3         SHIVANSH RAJPUT       2022UG1003     48\n",
       "3        4               ARION DAS       2022UG1004     44\n",
       "4        5  KATRAVATH ROSHAN NAYAK       2022UG1005     20\n",
       "..     ...                     ...              ...    ...\n",
       "67      68            VISHAL VERMA       2022UG1068     44\n",
       "68      69          DEVANSH MISHRA       2022UG1069     38\n",
       "69      70     Amit kumar kushwaha       2022UG1070     30\n",
       "70      71              YASH MEHTA       2022UG1071     24\n",
       "71      72             ANKIT KUMAR       2022UG1072     54\n",
       "\n",
       "[72 rows x 4 columns]"
      ]
     },
     "execution_count": 87,
     "metadata": {},
     "output_type": "execute_result"
    }
   ],
   "source": [
    "DataSet2"
   ]
  },
  {
   "cell_type": "code",
   "execution_count": 88,
   "id": "faeff5de-b43b-4107-9edf-e1208df6e353",
   "metadata": {},
   "outputs": [],
   "source": [
    "DataSet1=pd.read_excel('Marks.xlsx',sheet_name=0)"
   ]
  },
  {
   "cell_type": "code",
   "execution_count": 89,
   "id": "5b00cb1d-2d89-417a-9b19-a12904c8d4d0",
   "metadata": {},
   "outputs": [
    {
     "data": {
      "text/html": [
       "<div>\n",
       "<style scoped>\n",
       "    .dataframe tbody tr th:only-of-type {\n",
       "        vertical-align: middle;\n",
       "    }\n",
       "\n",
       "    .dataframe tbody tr th {\n",
       "        vertical-align: top;\n",
       "    }\n",
       "\n",
       "    .dataframe thead th {\n",
       "        text-align: right;\n",
       "    }\n",
       "</style>\n",
       "<table border=\"1\" class=\"dataframe\">\n",
       "  <thead>\n",
       "    <tr style=\"text-align: right;\">\n",
       "      <th></th>\n",
       "      <th>Sr. No</th>\n",
       "      <th>Name of Student</th>\n",
       "      <th>Registration No</th>\n",
       "      <th>Marks</th>\n",
       "    </tr>\n",
       "  </thead>\n",
       "  <tbody>\n",
       "    <tr>\n",
       "      <th>0</th>\n",
       "      <td>1</td>\n",
       "      <td>PAPPU JNANA MADHURI</td>\n",
       "      <td>2022UG1001</td>\n",
       "      <td>42</td>\n",
       "    </tr>\n",
       "    <tr>\n",
       "      <th>1</th>\n",
       "      <td>2</td>\n",
       "      <td>Ritesh Raj</td>\n",
       "      <td>2022UG1002</td>\n",
       "      <td>36</td>\n",
       "    </tr>\n",
       "    <tr>\n",
       "      <th>2</th>\n",
       "      <td>3</td>\n",
       "      <td>SHIVANSH RAJPUT</td>\n",
       "      <td>2022UG1003</td>\n",
       "      <td>48</td>\n",
       "    </tr>\n",
       "    <tr>\n",
       "      <th>3</th>\n",
       "      <td>4</td>\n",
       "      <td>ARION DAS</td>\n",
       "      <td>2022UG1004</td>\n",
       "      <td>44</td>\n",
       "    </tr>\n",
       "    <tr>\n",
       "      <th>4</th>\n",
       "      <td>5</td>\n",
       "      <td>KATRAVATH ROSHAN NAYAK</td>\n",
       "      <td>2022UG1005</td>\n",
       "      <td>20</td>\n",
       "    </tr>\n",
       "    <tr>\n",
       "      <th>...</th>\n",
       "      <td>...</td>\n",
       "      <td>...</td>\n",
       "      <td>...</td>\n",
       "      <td>...</td>\n",
       "    </tr>\n",
       "    <tr>\n",
       "      <th>67</th>\n",
       "      <td>68</td>\n",
       "      <td>VISHAL VERMA</td>\n",
       "      <td>2022UG1068</td>\n",
       "      <td>44</td>\n",
       "    </tr>\n",
       "    <tr>\n",
       "      <th>68</th>\n",
       "      <td>69</td>\n",
       "      <td>DEVANSH MISHRA</td>\n",
       "      <td>2022UG1069</td>\n",
       "      <td>38</td>\n",
       "    </tr>\n",
       "    <tr>\n",
       "      <th>69</th>\n",
       "      <td>70</td>\n",
       "      <td>Amit kumar kushwaha</td>\n",
       "      <td>2022UG1070</td>\n",
       "      <td>30</td>\n",
       "    </tr>\n",
       "    <tr>\n",
       "      <th>70</th>\n",
       "      <td>71</td>\n",
       "      <td>YASH MEHTA</td>\n",
       "      <td>2022UG1071</td>\n",
       "      <td>24</td>\n",
       "    </tr>\n",
       "    <tr>\n",
       "      <th>71</th>\n",
       "      <td>72</td>\n",
       "      <td>ANKIT KUMAR</td>\n",
       "      <td>2022UG1072</td>\n",
       "      <td>54</td>\n",
       "    </tr>\n",
       "  </tbody>\n",
       "</table>\n",
       "<p>72 rows × 4 columns</p>\n",
       "</div>"
      ],
      "text/plain": [
       "    Sr. No        Name of Student  Registration No   Marks\n",
       "0        1     PAPPU JNANA MADHURI       2022UG1001     42\n",
       "1        2              Ritesh Raj       2022UG1002     36\n",
       "2        3         SHIVANSH RAJPUT       2022UG1003     48\n",
       "3        4               ARION DAS       2022UG1004     44\n",
       "4        5  KATRAVATH ROSHAN NAYAK       2022UG1005     20\n",
       "..     ...                     ...              ...    ...\n",
       "67      68            VISHAL VERMA       2022UG1068     44\n",
       "68      69          DEVANSH MISHRA       2022UG1069     38\n",
       "69      70     Amit kumar kushwaha       2022UG1070     30\n",
       "70      71              YASH MEHTA       2022UG1071     24\n",
       "71      72             ANKIT KUMAR       2022UG1072     54\n",
       "\n",
       "[72 rows x 4 columns]"
      ]
     },
     "execution_count": 89,
     "metadata": {},
     "output_type": "execute_result"
    }
   ],
   "source": [
    "DataSet1"
   ]
  },
  {
   "cell_type": "code",
   "execution_count": 90,
   "id": "de3adf05-e955-4b72-b923-a086f51927c8",
   "metadata": {},
   "outputs": [],
   "source": [
    "DataSet2=pd.read_excel('Marks.xlsx',sheet_name=1)"
   ]
  },
  {
   "cell_type": "code",
   "execution_count": 91,
   "id": "9e1c5166-cf6d-476b-bf24-836072f6f7fd",
   "metadata": {},
   "outputs": [
    {
     "data": {
      "text/html": [
       "<div>\n",
       "<style scoped>\n",
       "    .dataframe tbody tr th:only-of-type {\n",
       "        vertical-align: middle;\n",
       "    }\n",
       "\n",
       "    .dataframe tbody tr th {\n",
       "        vertical-align: top;\n",
       "    }\n",
       "\n",
       "    .dataframe thead th {\n",
       "        text-align: right;\n",
       "    }\n",
       "</style>\n",
       "<table border=\"1\" class=\"dataframe\">\n",
       "  <thead>\n",
       "    <tr style=\"text-align: right;\">\n",
       "      <th></th>\n",
       "      <th>Sr. No.</th>\n",
       "      <th>Name of Student</th>\n",
       "      <th>Registration No</th>\n",
       "      <th>Marks</th>\n",
       "    </tr>\n",
       "  </thead>\n",
       "  <tbody>\n",
       "    <tr>\n",
       "      <th>0</th>\n",
       "      <td>1</td>\n",
       "      <td>AMIT KUMAR</td>\n",
       "      <td>2022UG1073</td>\n",
       "      <td>26</td>\n",
       "    </tr>\n",
       "    <tr>\n",
       "      <th>1</th>\n",
       "      <td>2</td>\n",
       "      <td>YATIN KUMAR</td>\n",
       "      <td>2022UG1074</td>\n",
       "      <td>40</td>\n",
       "    </tr>\n",
       "    <tr>\n",
       "      <th>2</th>\n",
       "      <td>3</td>\n",
       "      <td>Shivank Tripathi</td>\n",
       "      <td>2022UG1075</td>\n",
       "      <td>52</td>\n",
       "    </tr>\n",
       "    <tr>\n",
       "      <th>3</th>\n",
       "      <td>4</td>\n",
       "      <td>Anant Awasthi</td>\n",
       "      <td>2022UG1076</td>\n",
       "      <td>38</td>\n",
       "    </tr>\n",
       "    <tr>\n",
       "      <th>4</th>\n",
       "      <td>5</td>\n",
       "      <td>Khush Shah</td>\n",
       "      <td>2022UG1077</td>\n",
       "      <td>50</td>\n",
       "    </tr>\n",
       "    <tr>\n",
       "      <th>...</th>\n",
       "      <td>...</td>\n",
       "      <td>...</td>\n",
       "      <td>...</td>\n",
       "      <td>...</td>\n",
       "    </tr>\n",
       "    <tr>\n",
       "      <th>68</th>\n",
       "      <td>69</td>\n",
       "      <td>Rishabh Kashyap</td>\n",
       "      <td>2022UG3027</td>\n",
       "      <td>52</td>\n",
       "    </tr>\n",
       "    <tr>\n",
       "      <th>69</th>\n",
       "      <td>70</td>\n",
       "      <td>SAKSHAM</td>\n",
       "      <td>2022UG3028</td>\n",
       "      <td>40</td>\n",
       "    </tr>\n",
       "    <tr>\n",
       "      <th>70</th>\n",
       "      <td>71</td>\n",
       "      <td>MANISH MEENA</td>\n",
       "      <td>2022UG3029</td>\n",
       "      <td>24</td>\n",
       "    </tr>\n",
       "    <tr>\n",
       "      <th>71</th>\n",
       "      <td>72</td>\n",
       "      <td>SHREYANSH GOEL</td>\n",
       "      <td>2022UG2029</td>\n",
       "      <td>58</td>\n",
       "    </tr>\n",
       "    <tr>\n",
       "      <th>72</th>\n",
       "      <td>73</td>\n",
       "      <td>PRATHAM DIWEDI</td>\n",
       "      <td>2022UG4019</td>\n",
       "      <td>48</td>\n",
       "    </tr>\n",
       "  </tbody>\n",
       "</table>\n",
       "<p>73 rows × 4 columns</p>\n",
       "</div>"
      ],
      "text/plain": [
       "    Sr. No.  Name of Student  Registration No   Marks\n",
       "0         1        AMIT KUMAR       2022UG1073     26\n",
       "1         2       YATIN KUMAR       2022UG1074     40\n",
       "2         3  Shivank Tripathi       2022UG1075     52\n",
       "3         4     Anant Awasthi       2022UG1076     38\n",
       "4         5        Khush Shah       2022UG1077     50\n",
       "..      ...               ...              ...    ...\n",
       "68       69   Rishabh Kashyap       2022UG3027     52\n",
       "69       70           SAKSHAM       2022UG3028     40\n",
       "70       71      MANISH MEENA       2022UG3029     24\n",
       "71       72    SHREYANSH GOEL       2022UG2029     58\n",
       "72       73    PRATHAM DIWEDI       2022UG4019     48\n",
       "\n",
       "[73 rows x 4 columns]"
      ]
     },
     "execution_count": 91,
     "metadata": {},
     "output_type": "execute_result"
    }
   ],
   "source": [
    "DataSet2"
   ]
  },
  {
   "cell_type": "code",
   "execution_count": 92,
   "id": "0a60db43-8c75-477b-ac11-e1cfc1ef0f37",
   "metadata": {},
   "outputs": [
    {
     "data": {
      "text/plain": [
       "'    Sr. No.                     Name of Student  Registration No   Marks\\n0         1                           AMIT KUMAR       2022UG1073     26\\n1         2                          YATIN KUMAR       2022UG1074     40\\n2         3                     Shivank Tripathi       2022UG1075     52\\n3         4                        Anant Awasthi       2022UG1076     38\\n4         5                           Khush Shah       2022UG1077     50\\n5         6                      SHIVANSH SHUKLA       2022UG1078     30\\n6         7                        RAJEEV RANJAN       2022UG1079     32\\n7         8                   Abhishek kumar jha       2022UG1080     22\\n8         9                        ABHINAV PATEL       2022UG1081     32\\n9        10                       SAHIL REPURIYA       2022UG1082     42\\n10       11                         SAHIL SHUKLA       2022UG1083     45\\n11       12                        vishal mishra       2022UG1084     30\\n12       13                  ABHISHEK SINGH NEGI       2022UG1085     52\\n13       14                      VIKAS CHAURASIA       2022UG1086     44\\n14       15                          MOHIT KUMAR       2022UG1087     48\\n15       16                  PRAVEEN KUMAR GUPTA       2022UG1088     56\\n16       17                        GAUTAM SHARMA       2022UG1089     54\\n17       18         TIWARI LOKENDRA PURUSHOTTAM        2022UG1090     42\\n18       19                              UTKARSH       2022UG1091     32\\n19       20        SAMUDRALA DINESH NAVEEN KUMAR       2022UG1092     42\\n20       21                      Kushagra Saxena       2022UG1093     38\\n21       22                         VIBEK PRASAD       2022UG1094     36\\n22       23                                ARYAN       2022UG1095     32\\n23       24                          ANKIT KUMAR       2022UG1096     30\\n24       25                        Navneet Patel       2022UG1097     40\\n25       26                              Shirish       2022UG1098     10\\n26       27                     SHIVAM KUMAR RAH       2022UG1099     18\\n27       28                        SANDEEP GUPTA       2022UG1100     30\\n28       29                          NITIN KUMAR       2022UG1101     32\\n29       30                        Aditya Pandey       2022UG1102     24\\n30       31                         Yash Pundhir       2022UG1103     36\\n31       32                        Koushik Jalan       2022UG1104     42\\n32       33                  NAYAN KUMAR CHOUHAN       2022UG1105      6\\n33       34                     DIPURANJAN SETHY       2022UG1106     32\\n34       35                          ANKIT KUMAR       2022UG1107     40\\n35       36               BOMMASAMUDRAM SANTHOSH       2022UG1108     24\\n36       37                        SATVIK MISHRA       2022UG1109     20\\n37       38                         Punya Chadha       2022UG1110     46\\n38       39                        NIKHIL SONKAR       2022UG1111     34\\n39       40                         AKASH MISHRA       2022UG1112     40\\n40       41                        SANDEEP KUMAR       2022UG1113     36\\n41       42                      GUGULOTH NITHIN       2022UG1114     14\\n42       43                      GAURANG AGARWAL       2022UG3001     52\\n43       44                     Sagnik Taraphdar       2022UG3002     48\\n44       45                         ANIKET KUMAR       2022UG3003     20\\n45       46  KOPPISETTI J S VENKATA DURGA MANESH       2022UG3004     18\\n46       47                          VARAD GUPTA       2022UG3005     50\\n47       48                     Md Khateebur Rab       2022UG3006     32\\n48       49                        ADITYA RAJPUT       2022UG3007     32\\n49       50                           ALOK GUPTA       2022UG3008     42\\n50       51                     SHUBH SHUBHANJAL       2022UG3009     38\\n51       52                              NISHANT       2022UG3010     46\\n52       53                       Ayushman Singh       2022UG3011     56\\n53       54                       ADITYA HARSHIT       2022UG3012     32\\n54       55                    AYUSH SHAURYA JHA       2022UG3013     44\\n55       56                          VIVEK KUMAR       2022UG3014     32\\n56       57                   SAMBHAV SRIVASTAVA       2022UG3015     26\\n57       58                          DEVAM SINGH       2022UG3016     38\\n58       59                       SHARAD PRAKASH       2022UG3017     58\\n59       60                     KRISH SRIVASTAVA       2022UG3018     50\\n60       61                        AKSHAT KUMAR        2022UG3019     40\\n61       62                ADARSH KUMAR BHARDWAJ       2022UG3020     50\\n62       63                        Abhinav Singh       2022UG3021     52\\n63       64                         SAJAL NAMDEO       2022UG3022     55\\n64       65                    PRITAM ROY SARKAR       2022UG3023     30\\n65       66                        ANUBHAV SINGH       2022UG3024     30\\n66       67                      TANISHQ RAJORIA       2022UG3025     42\\n67       68                       VISHWAS TIWARI       2022UG3026     40\\n68       69                      Rishabh Kashyap       2022UG3027     52\\n69       70                              SAKSHAM       2022UG3028     40\\n70       71                         MANISH MEENA       2022UG3029     24\\n71       72                       SHREYANSH GOEL       2022UG2029     58\\n72       73                       PRATHAM DIWEDI       2022UG4019     48'"
      ]
     },
     "execution_count": 92,
     "metadata": {},
     "output_type": "execute_result"
    }
   ],
   "source": [
    "DataSet2.to_string()"
   ]
  },
  {
   "cell_type": "code",
   "execution_count": 93,
   "id": "c4cc20bf-3457-46bf-8133-75d41098ab3d",
   "metadata": {},
   "outputs": [
    {
     "data": {
      "text/html": [
       "<div>\n",
       "<style scoped>\n",
       "    .dataframe tbody tr th:only-of-type {\n",
       "        vertical-align: middle;\n",
       "    }\n",
       "\n",
       "    .dataframe tbody tr th {\n",
       "        vertical-align: top;\n",
       "    }\n",
       "\n",
       "    .dataframe thead th {\n",
       "        text-align: right;\n",
       "    }\n",
       "</style>\n",
       "<table border=\"1\" class=\"dataframe\">\n",
       "  <thead>\n",
       "    <tr style=\"text-align: right;\">\n",
       "      <th></th>\n",
       "      <th>Sr. No</th>\n",
       "      <th>Name of Student</th>\n",
       "      <th>Registration No</th>\n",
       "      <th>Marks</th>\n",
       "    </tr>\n",
       "  </thead>\n",
       "  <tbody>\n",
       "    <tr>\n",
       "      <th>0</th>\n",
       "      <td>1</td>\n",
       "      <td>PAPPU JNANA MADHURI</td>\n",
       "      <td>2022UG1001</td>\n",
       "      <td>42</td>\n",
       "    </tr>\n",
       "    <tr>\n",
       "      <th>1</th>\n",
       "      <td>2</td>\n",
       "      <td>Ritesh Raj</td>\n",
       "      <td>2022UG1002</td>\n",
       "      <td>36</td>\n",
       "    </tr>\n",
       "    <tr>\n",
       "      <th>2</th>\n",
       "      <td>3</td>\n",
       "      <td>SHIVANSH RAJPUT</td>\n",
       "      <td>2022UG1003</td>\n",
       "      <td>48</td>\n",
       "    </tr>\n",
       "    <tr>\n",
       "      <th>3</th>\n",
       "      <td>4</td>\n",
       "      <td>ARION DAS</td>\n",
       "      <td>2022UG1004</td>\n",
       "      <td>44</td>\n",
       "    </tr>\n",
       "    <tr>\n",
       "      <th>4</th>\n",
       "      <td>5</td>\n",
       "      <td>KATRAVATH ROSHAN NAYAK</td>\n",
       "      <td>2022UG1005</td>\n",
       "      <td>20</td>\n",
       "    </tr>\n",
       "  </tbody>\n",
       "</table>\n",
       "</div>"
      ],
      "text/plain": [
       "   Sr. No        Name of Student  Registration No   Marks\n",
       "0       1     PAPPU JNANA MADHURI       2022UG1001     42\n",
       "1       2              Ritesh Raj       2022UG1002     36\n",
       "2       3         SHIVANSH RAJPUT       2022UG1003     48\n",
       "3       4               ARION DAS       2022UG1004     44\n",
       "4       5  KATRAVATH ROSHAN NAYAK       2022UG1005     20"
      ]
     },
     "execution_count": 93,
     "metadata": {},
     "output_type": "execute_result"
    }
   ],
   "source": [
    "DataSet1.head()"
   ]
  },
  {
   "cell_type": "code",
   "execution_count": 94,
   "id": "c212868b-fd21-49a6-b49a-a8259a741e37",
   "metadata": {},
   "outputs": [
    {
     "data": {
      "text/html": [
       "<div>\n",
       "<style scoped>\n",
       "    .dataframe tbody tr th:only-of-type {\n",
       "        vertical-align: middle;\n",
       "    }\n",
       "\n",
       "    .dataframe tbody tr th {\n",
       "        vertical-align: top;\n",
       "    }\n",
       "\n",
       "    .dataframe thead th {\n",
       "        text-align: right;\n",
       "    }\n",
       "</style>\n",
       "<table border=\"1\" class=\"dataframe\">\n",
       "  <thead>\n",
       "    <tr style=\"text-align: right;\">\n",
       "      <th></th>\n",
       "      <th>Sr. No</th>\n",
       "      <th>Name of Student</th>\n",
       "      <th>Registration No</th>\n",
       "      <th>Marks</th>\n",
       "    </tr>\n",
       "  </thead>\n",
       "  <tbody>\n",
       "    <tr>\n",
       "      <th>67</th>\n",
       "      <td>68</td>\n",
       "      <td>VISHAL VERMA</td>\n",
       "      <td>2022UG1068</td>\n",
       "      <td>44</td>\n",
       "    </tr>\n",
       "    <tr>\n",
       "      <th>68</th>\n",
       "      <td>69</td>\n",
       "      <td>DEVANSH MISHRA</td>\n",
       "      <td>2022UG1069</td>\n",
       "      <td>38</td>\n",
       "    </tr>\n",
       "    <tr>\n",
       "      <th>69</th>\n",
       "      <td>70</td>\n",
       "      <td>Amit kumar kushwaha</td>\n",
       "      <td>2022UG1070</td>\n",
       "      <td>30</td>\n",
       "    </tr>\n",
       "    <tr>\n",
       "      <th>70</th>\n",
       "      <td>71</td>\n",
       "      <td>YASH MEHTA</td>\n",
       "      <td>2022UG1071</td>\n",
       "      <td>24</td>\n",
       "    </tr>\n",
       "    <tr>\n",
       "      <th>71</th>\n",
       "      <td>72</td>\n",
       "      <td>ANKIT KUMAR</td>\n",
       "      <td>2022UG1072</td>\n",
       "      <td>54</td>\n",
       "    </tr>\n",
       "  </tbody>\n",
       "</table>\n",
       "</div>"
      ],
      "text/plain": [
       "    Sr. No     Name of Student  Registration No   Marks\n",
       "67      68         VISHAL VERMA       2022UG1068     44\n",
       "68      69       DEVANSH MISHRA       2022UG1069     38\n",
       "69      70  Amit kumar kushwaha       2022UG1070     30\n",
       "70      71           YASH MEHTA       2022UG1071     24\n",
       "71      72          ANKIT KUMAR       2022UG1072     54"
      ]
     },
     "execution_count": 94,
     "metadata": {},
     "output_type": "execute_result"
    }
   ],
   "source": [
    "DataSet1.tail()"
   ]
  },
  {
   "cell_type": "code",
   "execution_count": 95,
   "id": "b3448dbd-f8cd-4b44-9c20-378ea19f11fb",
   "metadata": {},
   "outputs": [],
   "source": [
    "DataSet1['Marks'].fillna(0,inplace=True)"
   ]
  },
  {
   "cell_type": "code",
   "execution_count": 96,
   "id": "46d1d07e-3bee-4093-8684-8ab2e6ea481c",
   "metadata": {},
   "outputs": [
    {
     "data": {
      "text/plain": [
       "0     42\n",
       "1     36\n",
       "2     48\n",
       "3     44\n",
       "4     20\n",
       "      ..\n",
       "67    44\n",
       "68    38\n",
       "69    30\n",
       "70    24\n",
       "71    54\n",
       "Name: Marks, Length: 72, dtype: int64"
      ]
     },
     "execution_count": 96,
     "metadata": {},
     "output_type": "execute_result"
    }
   ],
   "source": [
    "DataSet1['Marks']"
   ]
  },
  {
   "cell_type": "code",
   "execution_count": 97,
   "id": "c045f893-000c-496c-8762-0fd271da1b00",
   "metadata": {},
   "outputs": [
    {
     "data": {
      "text/plain": [
       "2603"
      ]
     },
     "execution_count": 97,
     "metadata": {},
     "output_type": "execute_result"
    }
   ],
   "source": [
    "DataSet1['Marks'].sum()"
   ]
  },
  {
   "cell_type": "code",
   "execution_count": 98,
   "id": "b13a62ea-468b-4c14-9ee0-091dc69a4efc",
   "metadata": {},
   "outputs": [
    {
     "data": {
      "text/plain": [
       "36.15277777777778"
      ]
     },
     "execution_count": 98,
     "metadata": {},
     "output_type": "execute_result"
    }
   ],
   "source": [
    "DataSet1['Marks'].mean()"
   ]
  },
  {
   "cell_type": "code",
   "execution_count": 99,
   "id": "0390e51f-5761-4cef-bae4-df2d3cb1a207",
   "metadata": {},
   "outputs": [
    {
     "data": {
      "text/plain": [
       "48"
      ]
     },
     "execution_count": 99,
     "metadata": {},
     "output_type": "execute_result"
    }
   ],
   "source": [
    "DataSet1['Marks'].mode()[0]"
   ]
  },
  {
   "cell_type": "code",
   "execution_count": 100,
   "id": "d9b1c362-0fb2-487d-b75e-bf5a2b7ca2f6",
   "metadata": {},
   "outputs": [],
   "source": [
    "import numpy as np"
   ]
  },
  {
   "cell_type": "code",
   "execution_count": 101,
   "id": "ac333881-afc4-4007-82da-e0eca6ec1624",
   "metadata": {},
   "outputs": [],
   "source": [
    "A=np.arange(1,17).reshape(4,4)"
   ]
  },
  {
   "cell_type": "code",
   "execution_count": 102,
   "id": "fb3281b9-1b55-421f-8a58-6c40d4701b61",
   "metadata": {},
   "outputs": [
    {
     "data": {
      "text/plain": [
       "array([[ 1,  2,  3,  4],\n",
       "       [ 5,  6,  7,  8],\n",
       "       [ 9, 10, 11, 12],\n",
       "       [13, 14, 15, 16]])"
      ]
     },
     "execution_count": 102,
     "metadata": {},
     "output_type": "execute_result"
    }
   ],
   "source": [
    "A"
   ]
  },
  {
   "cell_type": "code",
   "execution_count": 103,
   "id": "699b79a4-c9de-42be-88d3-35724f9f5a88",
   "metadata": {},
   "outputs": [],
   "source": [
    "from pandas import DataFrame as DF"
   ]
  },
  {
   "cell_type": "code",
   "execution_count": 104,
   "id": "56b01e35-b227-4f60-8158-82622cb10fd4",
   "metadata": {},
   "outputs": [],
   "source": [
    "D_arr=DF(A,index='r1 r2 r3 r4'.split(),columns='c1 c2 c3 c4'.split())"
   ]
  },
  {
   "cell_type": "code",
   "execution_count": 105,
   "id": "3f27e097-bc93-49aa-b6ca-c2f040477b8b",
   "metadata": {},
   "outputs": [
    {
     "data": {
      "text/html": [
       "<div>\n",
       "<style scoped>\n",
       "    .dataframe tbody tr th:only-of-type {\n",
       "        vertical-align: middle;\n",
       "    }\n",
       "\n",
       "    .dataframe tbody tr th {\n",
       "        vertical-align: top;\n",
       "    }\n",
       "\n",
       "    .dataframe thead th {\n",
       "        text-align: right;\n",
       "    }\n",
       "</style>\n",
       "<table border=\"1\" class=\"dataframe\">\n",
       "  <thead>\n",
       "    <tr style=\"text-align: right;\">\n",
       "      <th></th>\n",
       "      <th>c1</th>\n",
       "      <th>c2</th>\n",
       "      <th>c3</th>\n",
       "      <th>c4</th>\n",
       "    </tr>\n",
       "  </thead>\n",
       "  <tbody>\n",
       "    <tr>\n",
       "      <th>r1</th>\n",
       "      <td>1</td>\n",
       "      <td>2</td>\n",
       "      <td>3</td>\n",
       "      <td>4</td>\n",
       "    </tr>\n",
       "    <tr>\n",
       "      <th>r2</th>\n",
       "      <td>5</td>\n",
       "      <td>6</td>\n",
       "      <td>7</td>\n",
       "      <td>8</td>\n",
       "    </tr>\n",
       "    <tr>\n",
       "      <th>r3</th>\n",
       "      <td>9</td>\n",
       "      <td>10</td>\n",
       "      <td>11</td>\n",
       "      <td>12</td>\n",
       "    </tr>\n",
       "    <tr>\n",
       "      <th>r4</th>\n",
       "      <td>13</td>\n",
       "      <td>14</td>\n",
       "      <td>15</td>\n",
       "      <td>16</td>\n",
       "    </tr>\n",
       "  </tbody>\n",
       "</table>\n",
       "</div>"
      ],
      "text/plain": [
       "    c1  c2  c3  c4\n",
       "r1   1   2   3   4\n",
       "r2   5   6   7   8\n",
       "r3   9  10  11  12\n",
       "r4  13  14  15  16"
      ]
     },
     "execution_count": 105,
     "metadata": {},
     "output_type": "execute_result"
    }
   ],
   "source": [
    "D_arr"
   ]
  },
  {
   "cell_type": "code",
   "execution_count": 106,
   "id": "b27d7073-c112-416e-b892-622c12b5787a",
   "metadata": {},
   "outputs": [],
   "source": [
    "B=np.arange(21,37).reshape(4,4)"
   ]
  },
  {
   "cell_type": "code",
   "execution_count": 107,
   "id": "6da425f8-e94d-4e41-a48c-fdb4856ac167",
   "metadata": {},
   "outputs": [
    {
     "data": {
      "text/plain": [
       "array([[21, 22, 23, 24],\n",
       "       [25, 26, 27, 28],\n",
       "       [29, 30, 31, 32],\n",
       "       [33, 34, 35, 36]])"
      ]
     },
     "execution_count": 107,
     "metadata": {},
     "output_type": "execute_result"
    }
   ],
   "source": [
    "B"
   ]
  },
  {
   "cell_type": "code",
   "execution_count": 108,
   "id": "4d284adb-0e60-4b39-9849-1d1f59a2db41",
   "metadata": {},
   "outputs": [],
   "source": [
    "D_arr2=DF(B,index='r1 r2 r3 r4'.split(),columns='c1 c2 c3 c4'.split())"
   ]
  },
  {
   "cell_type": "code",
   "execution_count": 109,
   "id": "dc68fd14-e53c-498a-b866-18e89929fe05",
   "metadata": {},
   "outputs": [
    {
     "data": {
      "text/html": [
       "<div>\n",
       "<style scoped>\n",
       "    .dataframe tbody tr th:only-of-type {\n",
       "        vertical-align: middle;\n",
       "    }\n",
       "\n",
       "    .dataframe tbody tr th {\n",
       "        vertical-align: top;\n",
       "    }\n",
       "\n",
       "    .dataframe thead th {\n",
       "        text-align: right;\n",
       "    }\n",
       "</style>\n",
       "<table border=\"1\" class=\"dataframe\">\n",
       "  <thead>\n",
       "    <tr style=\"text-align: right;\">\n",
       "      <th></th>\n",
       "      <th>c1</th>\n",
       "      <th>c2</th>\n",
       "      <th>c3</th>\n",
       "      <th>c4</th>\n",
       "    </tr>\n",
       "  </thead>\n",
       "  <tbody>\n",
       "    <tr>\n",
       "      <th>r1</th>\n",
       "      <td>21</td>\n",
       "      <td>22</td>\n",
       "      <td>23</td>\n",
       "      <td>24</td>\n",
       "    </tr>\n",
       "    <tr>\n",
       "      <th>r2</th>\n",
       "      <td>25</td>\n",
       "      <td>26</td>\n",
       "      <td>27</td>\n",
       "      <td>28</td>\n",
       "    </tr>\n",
       "    <tr>\n",
       "      <th>r3</th>\n",
       "      <td>29</td>\n",
       "      <td>30</td>\n",
       "      <td>31</td>\n",
       "      <td>32</td>\n",
       "    </tr>\n",
       "    <tr>\n",
       "      <th>r4</th>\n",
       "      <td>33</td>\n",
       "      <td>34</td>\n",
       "      <td>35</td>\n",
       "      <td>36</td>\n",
       "    </tr>\n",
       "  </tbody>\n",
       "</table>\n",
       "</div>"
      ],
      "text/plain": [
       "    c1  c2  c3  c4\n",
       "r1  21  22  23  24\n",
       "r2  25  26  27  28\n",
       "r3  29  30  31  32\n",
       "r4  33  34  35  36"
      ]
     },
     "execution_count": 109,
     "metadata": {},
     "output_type": "execute_result"
    }
   ],
   "source": [
    "D_arr2"
   ]
  },
  {
   "cell_type": "code",
   "execution_count": 110,
   "id": "7f94eeea-29ec-417b-83be-7c01a01dbb4e",
   "metadata": {},
   "outputs": [
    {
     "data": {
      "text/html": [
       "<div>\n",
       "<style scoped>\n",
       "    .dataframe tbody tr th:only-of-type {\n",
       "        vertical-align: middle;\n",
       "    }\n",
       "\n",
       "    .dataframe tbody tr th {\n",
       "        vertical-align: top;\n",
       "    }\n",
       "\n",
       "    .dataframe thead th {\n",
       "        text-align: right;\n",
       "    }\n",
       "</style>\n",
       "<table border=\"1\" class=\"dataframe\">\n",
       "  <thead>\n",
       "    <tr style=\"text-align: right;\">\n",
       "      <th></th>\n",
       "      <th>c1</th>\n",
       "      <th>c2</th>\n",
       "      <th>c3</th>\n",
       "      <th>c4</th>\n",
       "    </tr>\n",
       "  </thead>\n",
       "  <tbody>\n",
       "    <tr>\n",
       "      <th>r1</th>\n",
       "      <td>22</td>\n",
       "      <td>24</td>\n",
       "      <td>26</td>\n",
       "      <td>28</td>\n",
       "    </tr>\n",
       "    <tr>\n",
       "      <th>r2</th>\n",
       "      <td>30</td>\n",
       "      <td>32</td>\n",
       "      <td>34</td>\n",
       "      <td>36</td>\n",
       "    </tr>\n",
       "    <tr>\n",
       "      <th>r3</th>\n",
       "      <td>38</td>\n",
       "      <td>40</td>\n",
       "      <td>42</td>\n",
       "      <td>44</td>\n",
       "    </tr>\n",
       "    <tr>\n",
       "      <th>r4</th>\n",
       "      <td>46</td>\n",
       "      <td>48</td>\n",
       "      <td>50</td>\n",
       "      <td>52</td>\n",
       "    </tr>\n",
       "  </tbody>\n",
       "</table>\n",
       "</div>"
      ],
      "text/plain": [
       "    c1  c2  c3  c4\n",
       "r1  22  24  26  28\n",
       "r2  30  32  34  36\n",
       "r3  38  40  42  44\n",
       "r4  46  48  50  52"
      ]
     },
     "execution_count": 110,
     "metadata": {},
     "output_type": "execute_result"
    }
   ],
   "source": [
    "D_arr+D_arr2"
   ]
  },
  {
   "cell_type": "code",
   "execution_count": 111,
   "id": "e29ada9a-ca4f-4fa9-a606-a97a5e1c145c",
   "metadata": {},
   "outputs": [
    {
     "data": {
      "text/html": [
       "<div>\n",
       "<style scoped>\n",
       "    .dataframe tbody tr th:only-of-type {\n",
       "        vertical-align: middle;\n",
       "    }\n",
       "\n",
       "    .dataframe tbody tr th {\n",
       "        vertical-align: top;\n",
       "    }\n",
       "\n",
       "    .dataframe thead th {\n",
       "        text-align: right;\n",
       "    }\n",
       "</style>\n",
       "<table border=\"1\" class=\"dataframe\">\n",
       "  <thead>\n",
       "    <tr style=\"text-align: right;\">\n",
       "      <th></th>\n",
       "      <th>c1</th>\n",
       "      <th>c2</th>\n",
       "      <th>c3</th>\n",
       "      <th>c4</th>\n",
       "    </tr>\n",
       "  </thead>\n",
       "  <tbody>\n",
       "    <tr>\n",
       "      <th>r1</th>\n",
       "      <td>22</td>\n",
       "      <td>24</td>\n",
       "      <td>26</td>\n",
       "      <td>28</td>\n",
       "    </tr>\n",
       "    <tr>\n",
       "      <th>r2</th>\n",
       "      <td>30</td>\n",
       "      <td>32</td>\n",
       "      <td>34</td>\n",
       "      <td>36</td>\n",
       "    </tr>\n",
       "    <tr>\n",
       "      <th>r3</th>\n",
       "      <td>38</td>\n",
       "      <td>40</td>\n",
       "      <td>42</td>\n",
       "      <td>44</td>\n",
       "    </tr>\n",
       "    <tr>\n",
       "      <th>r4</th>\n",
       "      <td>46</td>\n",
       "      <td>48</td>\n",
       "      <td>50</td>\n",
       "      <td>52</td>\n",
       "    </tr>\n",
       "  </tbody>\n",
       "</table>\n",
       "</div>"
      ],
      "text/plain": [
       "    c1  c2  c3  c4\n",
       "r1  22  24  26  28\n",
       "r2  30  32  34  36\n",
       "r3  38  40  42  44\n",
       "r4  46  48  50  52"
      ]
     },
     "execution_count": 111,
     "metadata": {},
     "output_type": "execute_result"
    }
   ],
   "source": [
    "D_arr.add(D_arr2)"
   ]
  },
  {
   "cell_type": "code",
   "execution_count": 112,
   "id": "80b86794-e375-41d9-b6ee-3b0007519d99",
   "metadata": {},
   "outputs": [
    {
     "data": {
      "text/html": [
       "<div>\n",
       "<style scoped>\n",
       "    .dataframe tbody tr th:only-of-type {\n",
       "        vertical-align: middle;\n",
       "    }\n",
       "\n",
       "    .dataframe tbody tr th {\n",
       "        vertical-align: top;\n",
       "    }\n",
       "\n",
       "    .dataframe thead th {\n",
       "        text-align: right;\n",
       "    }\n",
       "</style>\n",
       "<table border=\"1\" class=\"dataframe\">\n",
       "  <thead>\n",
       "    <tr style=\"text-align: right;\">\n",
       "      <th></th>\n",
       "      <th>c1</th>\n",
       "      <th>c2</th>\n",
       "      <th>c3</th>\n",
       "      <th>c4</th>\n",
       "    </tr>\n",
       "  </thead>\n",
       "  <tbody>\n",
       "    <tr>\n",
       "      <th>r1</th>\n",
       "      <td>-20</td>\n",
       "      <td>-20</td>\n",
       "      <td>-20</td>\n",
       "      <td>-20</td>\n",
       "    </tr>\n",
       "    <tr>\n",
       "      <th>r2</th>\n",
       "      <td>-20</td>\n",
       "      <td>-20</td>\n",
       "      <td>-20</td>\n",
       "      <td>-20</td>\n",
       "    </tr>\n",
       "    <tr>\n",
       "      <th>r3</th>\n",
       "      <td>-20</td>\n",
       "      <td>-20</td>\n",
       "      <td>-20</td>\n",
       "      <td>-20</td>\n",
       "    </tr>\n",
       "    <tr>\n",
       "      <th>r4</th>\n",
       "      <td>-20</td>\n",
       "      <td>-20</td>\n",
       "      <td>-20</td>\n",
       "      <td>-20</td>\n",
       "    </tr>\n",
       "  </tbody>\n",
       "</table>\n",
       "</div>"
      ],
      "text/plain": [
       "    c1  c2  c3  c4\n",
       "r1 -20 -20 -20 -20\n",
       "r2 -20 -20 -20 -20\n",
       "r3 -20 -20 -20 -20\n",
       "r4 -20 -20 -20 -20"
      ]
     },
     "execution_count": 112,
     "metadata": {},
     "output_type": "execute_result"
    }
   ],
   "source": [
    "D_arr-D_arr2"
   ]
  },
  {
   "cell_type": "code",
   "execution_count": 113,
   "id": "64d4cf9e-f984-4ff8-8372-214bd8d87862",
   "metadata": {},
   "outputs": [
    {
     "data": {
      "text/html": [
       "<div>\n",
       "<style scoped>\n",
       "    .dataframe tbody tr th:only-of-type {\n",
       "        vertical-align: middle;\n",
       "    }\n",
       "\n",
       "    .dataframe tbody tr th {\n",
       "        vertical-align: top;\n",
       "    }\n",
       "\n",
       "    .dataframe thead th {\n",
       "        text-align: right;\n",
       "    }\n",
       "</style>\n",
       "<table border=\"1\" class=\"dataframe\">\n",
       "  <thead>\n",
       "    <tr style=\"text-align: right;\">\n",
       "      <th></th>\n",
       "      <th>c1</th>\n",
       "      <th>c2</th>\n",
       "      <th>c3</th>\n",
       "      <th>c4</th>\n",
       "    </tr>\n",
       "  </thead>\n",
       "  <tbody>\n",
       "    <tr>\n",
       "      <th>r1</th>\n",
       "      <td>21</td>\n",
       "      <td>44</td>\n",
       "      <td>69</td>\n",
       "      <td>96</td>\n",
       "    </tr>\n",
       "    <tr>\n",
       "      <th>r2</th>\n",
       "      <td>125</td>\n",
       "      <td>156</td>\n",
       "      <td>189</td>\n",
       "      <td>224</td>\n",
       "    </tr>\n",
       "    <tr>\n",
       "      <th>r3</th>\n",
       "      <td>261</td>\n",
       "      <td>300</td>\n",
       "      <td>341</td>\n",
       "      <td>384</td>\n",
       "    </tr>\n",
       "    <tr>\n",
       "      <th>r4</th>\n",
       "      <td>429</td>\n",
       "      <td>476</td>\n",
       "      <td>525</td>\n",
       "      <td>576</td>\n",
       "    </tr>\n",
       "  </tbody>\n",
       "</table>\n",
       "</div>"
      ],
      "text/plain": [
       "     c1   c2   c3   c4\n",
       "r1   21   44   69   96\n",
       "r2  125  156  189  224\n",
       "r3  261  300  341  384\n",
       "r4  429  476  525  576"
      ]
     },
     "execution_count": 113,
     "metadata": {},
     "output_type": "execute_result"
    }
   ],
   "source": [
    "D_arr*D_arr2"
   ]
  },
  {
   "cell_type": "code",
   "execution_count": 114,
   "id": "6c5881c2-af05-4011-bb0f-d47a100da05f",
   "metadata": {},
   "outputs": [
    {
     "data": {
      "text/html": [
       "<div>\n",
       "<style scoped>\n",
       "    .dataframe tbody tr th:only-of-type {\n",
       "        vertical-align: middle;\n",
       "    }\n",
       "\n",
       "    .dataframe tbody tr th {\n",
       "        vertical-align: top;\n",
       "    }\n",
       "\n",
       "    .dataframe thead th {\n",
       "        text-align: right;\n",
       "    }\n",
       "</style>\n",
       "<table border=\"1\" class=\"dataframe\">\n",
       "  <thead>\n",
       "    <tr style=\"text-align: right;\">\n",
       "      <th></th>\n",
       "      <th>c1</th>\n",
       "      <th>c2</th>\n",
       "      <th>c3</th>\n",
       "      <th>c4</th>\n",
       "    </tr>\n",
       "  </thead>\n",
       "  <tbody>\n",
       "    <tr>\n",
       "      <th>r1</th>\n",
       "      <td>0.047619</td>\n",
       "      <td>0.090909</td>\n",
       "      <td>0.130435</td>\n",
       "      <td>0.166667</td>\n",
       "    </tr>\n",
       "    <tr>\n",
       "      <th>r2</th>\n",
       "      <td>0.200000</td>\n",
       "      <td>0.230769</td>\n",
       "      <td>0.259259</td>\n",
       "      <td>0.285714</td>\n",
       "    </tr>\n",
       "    <tr>\n",
       "      <th>r3</th>\n",
       "      <td>0.310345</td>\n",
       "      <td>0.333333</td>\n",
       "      <td>0.354839</td>\n",
       "      <td>0.375000</td>\n",
       "    </tr>\n",
       "    <tr>\n",
       "      <th>r4</th>\n",
       "      <td>0.393939</td>\n",
       "      <td>0.411765</td>\n",
       "      <td>0.428571</td>\n",
       "      <td>0.444444</td>\n",
       "    </tr>\n",
       "  </tbody>\n",
       "</table>\n",
       "</div>"
      ],
      "text/plain": [
       "          c1        c2        c3        c4\n",
       "r1  0.047619  0.090909  0.130435  0.166667\n",
       "r2  0.200000  0.230769  0.259259  0.285714\n",
       "r3  0.310345  0.333333  0.354839  0.375000\n",
       "r4  0.393939  0.411765  0.428571  0.444444"
      ]
     },
     "execution_count": 114,
     "metadata": {},
     "output_type": "execute_result"
    }
   ],
   "source": [
    "D_arr/D_arr2"
   ]
  },
  {
   "cell_type": "code",
   "execution_count": 115,
   "id": "ca813f29-d127-4fe1-898b-60a1d3167621",
   "metadata": {},
   "outputs": [
    {
     "data": {
      "text/plain": [
       "array([[ 290,  300,  310,  320],\n",
       "       [ 722,  748,  774,  800],\n",
       "       [1154, 1196, 1238, 1280],\n",
       "       [1586, 1644, 1702, 1760]])"
      ]
     },
     "execution_count": 115,
     "metadata": {},
     "output_type": "execute_result"
    }
   ],
   "source": [
    "D_arr.values@D_arr2.values"
   ]
  },
  {
   "cell_type": "code",
   "execution_count": 116,
   "id": "4035d2d2-f5fb-42b9-9815-8ff514357be8",
   "metadata": {},
   "outputs": [
    {
     "data": {
      "text/plain": [
       "c1    1\n",
       "c2    2\n",
       "c3    3\n",
       "c4    4\n",
       "Name: r1, dtype: int32"
      ]
     },
     "execution_count": 116,
     "metadata": {},
     "output_type": "execute_result"
    }
   ],
   "source": [
    "D_arr.loc['r1']"
   ]
  },
  {
   "cell_type": "code",
   "execution_count": 117,
   "id": "9ffe1a2e-0d57-4530-9a69-6c589a9d1af8",
   "metadata": {},
   "outputs": [],
   "source": [
    "D_arr.to_excel('Samp3.xlsx')"
   ]
  },
  {
   "cell_type": "code",
   "execution_count": 118,
   "id": "dff64807-269d-4c39-8391-34844e4a8e24",
   "metadata": {},
   "outputs": [],
   "source": [
    "D_arr.to_excel('Samp4.xlsx',index=False)"
   ]
  },
  {
   "cell_type": "code",
   "execution_count": 119,
   "id": "b71aded5-ab97-4fb4-8ea3-d196afc458d0",
   "metadata": {},
   "outputs": [
    {
     "data": {
      "text/html": [
       "<div>\n",
       "<style scoped>\n",
       "    .dataframe tbody tr th:only-of-type {\n",
       "        vertical-align: middle;\n",
       "    }\n",
       "\n",
       "    .dataframe tbody tr th {\n",
       "        vertical-align: top;\n",
       "    }\n",
       "\n",
       "    .dataframe thead th {\n",
       "        text-align: right;\n",
       "    }\n",
       "</style>\n",
       "<table border=\"1\" class=\"dataframe\">\n",
       "  <thead>\n",
       "    <tr style=\"text-align: right;\">\n",
       "      <th></th>\n",
       "      <th>c1</th>\n",
       "      <th>c2</th>\n",
       "      <th>c3</th>\n",
       "      <th>c4</th>\n",
       "    </tr>\n",
       "  </thead>\n",
       "  <tbody>\n",
       "    <tr>\n",
       "      <th>r1</th>\n",
       "      <td>1</td>\n",
       "      <td>2</td>\n",
       "      <td>3</td>\n",
       "      <td>4</td>\n",
       "    </tr>\n",
       "    <tr>\n",
       "      <th>r2</th>\n",
       "      <td>5</td>\n",
       "      <td>6</td>\n",
       "      <td>7</td>\n",
       "      <td>8</td>\n",
       "    </tr>\n",
       "    <tr>\n",
       "      <th>r3</th>\n",
       "      <td>9</td>\n",
       "      <td>10</td>\n",
       "      <td>11</td>\n",
       "      <td>12</td>\n",
       "    </tr>\n",
       "    <tr>\n",
       "      <th>r4</th>\n",
       "      <td>13</td>\n",
       "      <td>14</td>\n",
       "      <td>15</td>\n",
       "      <td>16</td>\n",
       "    </tr>\n",
       "  </tbody>\n",
       "</table>\n",
       "</div>"
      ],
      "text/plain": [
       "    c1  c2  c3  c4\n",
       "r1   1   2   3   4\n",
       "r2   5   6   7   8\n",
       "r3   9  10  11  12\n",
       "r4  13  14  15  16"
      ]
     },
     "execution_count": 119,
     "metadata": {},
     "output_type": "execute_result"
    }
   ],
   "source": [
    "D_arr"
   ]
  },
  {
   "cell_type": "code",
   "execution_count": 120,
   "id": "92214963-4190-4190-b7ef-05d3ae0d4064",
   "metadata": {},
   "outputs": [],
   "source": [
    "New_row={'c1':10,'c2':20,'c3':30,'c4':40}"
   ]
  },
  {
   "cell_type": "code",
   "execution_count": 121,
   "id": "9bef7fc8-1bda-47a9-ae62-fb435a893001",
   "metadata": {},
   "outputs": [],
   "source": [
    "D_arr=D_arr.add(New_row)"
   ]
  },
  {
   "cell_type": "code",
   "execution_count": 122,
   "id": "7b571784-ba32-4282-a7eb-2c73cb333e7b",
   "metadata": {},
   "outputs": [
    {
     "data": {
      "text/html": [
       "<div>\n",
       "<style scoped>\n",
       "    .dataframe tbody tr th:only-of-type {\n",
       "        vertical-align: middle;\n",
       "    }\n",
       "\n",
       "    .dataframe tbody tr th {\n",
       "        vertical-align: top;\n",
       "    }\n",
       "\n",
       "    .dataframe thead th {\n",
       "        text-align: right;\n",
       "    }\n",
       "</style>\n",
       "<table border=\"1\" class=\"dataframe\">\n",
       "  <thead>\n",
       "    <tr style=\"text-align: right;\">\n",
       "      <th></th>\n",
       "      <th>c1</th>\n",
       "      <th>c2</th>\n",
       "      <th>c3</th>\n",
       "      <th>c4</th>\n",
       "    </tr>\n",
       "  </thead>\n",
       "  <tbody>\n",
       "    <tr>\n",
       "      <th>r1</th>\n",
       "      <td>11</td>\n",
       "      <td>22</td>\n",
       "      <td>33</td>\n",
       "      <td>44</td>\n",
       "    </tr>\n",
       "    <tr>\n",
       "      <th>r2</th>\n",
       "      <td>15</td>\n",
       "      <td>26</td>\n",
       "      <td>37</td>\n",
       "      <td>48</td>\n",
       "    </tr>\n",
       "    <tr>\n",
       "      <th>r3</th>\n",
       "      <td>19</td>\n",
       "      <td>30</td>\n",
       "      <td>41</td>\n",
       "      <td>52</td>\n",
       "    </tr>\n",
       "    <tr>\n",
       "      <th>r4</th>\n",
       "      <td>23</td>\n",
       "      <td>34</td>\n",
       "      <td>45</td>\n",
       "      <td>56</td>\n",
       "    </tr>\n",
       "  </tbody>\n",
       "</table>\n",
       "</div>"
      ],
      "text/plain": [
       "    c1  c2  c3  c4\n",
       "r1  11  22  33  44\n",
       "r2  15  26  37  48\n",
       "r3  19  30  41  52\n",
       "r4  23  34  45  56"
      ]
     },
     "execution_count": 122,
     "metadata": {},
     "output_type": "execute_result"
    }
   ],
   "source": [
    "D_arr"
   ]
  },
  {
   "cell_type": "code",
   "execution_count": 123,
   "id": "2db456d1-643c-4b81-9ed6-cbf627078574",
   "metadata": {},
   "outputs": [],
   "source": [
    "D_arr_new=pd.concat([D_arr,D_arr2],ignore_index=True)"
   ]
  },
  {
   "cell_type": "code",
   "execution_count": 124,
   "id": "7758e004-ab5a-464f-a391-1f7a3ceb0d0b",
   "metadata": {},
   "outputs": [
    {
     "data": {
      "text/html": [
       "<div>\n",
       "<style scoped>\n",
       "    .dataframe tbody tr th:only-of-type {\n",
       "        vertical-align: middle;\n",
       "    }\n",
       "\n",
       "    .dataframe tbody tr th {\n",
       "        vertical-align: top;\n",
       "    }\n",
       "\n",
       "    .dataframe thead th {\n",
       "        text-align: right;\n",
       "    }\n",
       "</style>\n",
       "<table border=\"1\" class=\"dataframe\">\n",
       "  <thead>\n",
       "    <tr style=\"text-align: right;\">\n",
       "      <th></th>\n",
       "      <th>c1</th>\n",
       "      <th>c2</th>\n",
       "      <th>c3</th>\n",
       "      <th>c4</th>\n",
       "    </tr>\n",
       "  </thead>\n",
       "  <tbody>\n",
       "    <tr>\n",
       "      <th>0</th>\n",
       "      <td>11</td>\n",
       "      <td>22</td>\n",
       "      <td>33</td>\n",
       "      <td>44</td>\n",
       "    </tr>\n",
       "    <tr>\n",
       "      <th>1</th>\n",
       "      <td>15</td>\n",
       "      <td>26</td>\n",
       "      <td>37</td>\n",
       "      <td>48</td>\n",
       "    </tr>\n",
       "    <tr>\n",
       "      <th>2</th>\n",
       "      <td>19</td>\n",
       "      <td>30</td>\n",
       "      <td>41</td>\n",
       "      <td>52</td>\n",
       "    </tr>\n",
       "    <tr>\n",
       "      <th>3</th>\n",
       "      <td>23</td>\n",
       "      <td>34</td>\n",
       "      <td>45</td>\n",
       "      <td>56</td>\n",
       "    </tr>\n",
       "    <tr>\n",
       "      <th>4</th>\n",
       "      <td>21</td>\n",
       "      <td>22</td>\n",
       "      <td>23</td>\n",
       "      <td>24</td>\n",
       "    </tr>\n",
       "    <tr>\n",
       "      <th>5</th>\n",
       "      <td>25</td>\n",
       "      <td>26</td>\n",
       "      <td>27</td>\n",
       "      <td>28</td>\n",
       "    </tr>\n",
       "    <tr>\n",
       "      <th>6</th>\n",
       "      <td>29</td>\n",
       "      <td>30</td>\n",
       "      <td>31</td>\n",
       "      <td>32</td>\n",
       "    </tr>\n",
       "    <tr>\n",
       "      <th>7</th>\n",
       "      <td>33</td>\n",
       "      <td>34</td>\n",
       "      <td>35</td>\n",
       "      <td>36</td>\n",
       "    </tr>\n",
       "  </tbody>\n",
       "</table>\n",
       "</div>"
      ],
      "text/plain": [
       "   c1  c2  c3  c4\n",
       "0  11  22  33  44\n",
       "1  15  26  37  48\n",
       "2  19  30  41  52\n",
       "3  23  34  45  56\n",
       "4  21  22  23  24\n",
       "5  25  26  27  28\n",
       "6  29  30  31  32\n",
       "7  33  34  35  36"
      ]
     },
     "execution_count": 124,
     "metadata": {},
     "output_type": "execute_result"
    }
   ],
   "source": [
    "D_arr_new"
   ]
  },
  {
   "cell_type": "code",
   "execution_count": null,
   "id": "9f85c7aa-c422-4e99-9fd8-2339a15ea83c",
   "metadata": {},
   "outputs": [],
   "source": []
  },
  {
   "cell_type": "code",
   "execution_count": null,
   "id": "5a9eb8fa-2c22-4623-af38-b2f78a0c8a38",
   "metadata": {},
   "outputs": [],
   "source": []
  }
 ],
 "metadata": {
  "kernelspec": {
   "display_name": "Python 3 (ipykernel)",
   "language": "python",
   "name": "python3"
  },
  "language_info": {
   "codemirror_mode": {
    "name": "ipython",
    "version": 3
   },
   "file_extension": ".py",
   "mimetype": "text/x-python",
   "name": "python",
   "nbconvert_exporter": "python",
   "pygments_lexer": "ipython3",
   "version": "3.11.4"
  }
 },
 "nbformat": 4,
 "nbformat_minor": 5
}
